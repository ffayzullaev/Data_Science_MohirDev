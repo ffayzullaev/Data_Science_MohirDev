{
  "nbformat": 4,
  "nbformat_minor": 0,
  "metadata": {
    "colab": {
      "name": "2.1.3.Arr_Or_Pr#1_Logical_set.ipynb",
      "provenance": [],
      "collapsed_sections": [],
      "authorship_tag": "ABX9TyNMLnL52ptlxpDlKSVGUiX/",
      "include_colab_link": true
    },
    "kernelspec": {
      "name": "python3",
      "display_name": "Python 3"
    },
    "language_info": {
      "name": "python"
    }
  },
  "cells": [
    {
      "cell_type": "markdown",
      "metadata": {
        "id": "view-in-github",
        "colab_type": "text"
      },
      "source": [
        "<a href=\"https://colab.research.google.com/github/ffayzullaev/Data_Science_MohirDev/blob/main/2_1_3_Arr_Or_Pr_1_Logical_set.ipynb\" target=\"_parent\"><img src=\"https://colab.research.google.com/assets/colab-badge.svg\" alt=\"Open In Colab\"/></a>"
      ]
    },
    {
      "cell_type": "markdown",
      "source": [
        "Ma'lumotlar tahlili.\n",
        "2.1. NumPy kutubxonasi bilan ishlash"
      ],
      "metadata": {
        "id": "tKznFVZiNRSg"
      }
    },
    {
      "cell_type": "markdown",
      "source": [
        "NumPy kutubxonasini chaqirib olish"
      ],
      "metadata": {
        "id": "NlugrRCANVd9"
      }
    },
    {
      "cell_type": "code",
      "execution_count": 1,
      "metadata": {
        "id": "-FC5CUe5NPcn"
      },
      "outputs": [],
      "source": [
        "import numpy as np"
      ]
    },
    {
      "cell_type": "markdown",
      "source": [
        "2.1.3. Massivga yo'naltirilgan dasturlash"
      ],
      "metadata": {
        "id": "2xQYraG9NZ45"
      }
    },
    {
      "cell_type": "markdown",
      "source": [
        "Mantiqiy shart operatorlarni massiv operator sifatida qo'llash"
      ],
      "metadata": {
        "id": "b9dsm2MTNck6"
      }
    },
    {
      "cell_type": "markdown",
      "source": [
        "Shart operatori sifatida **where** dan foydalanish"
      ],
      "metadata": {
        "id": "qj1Z0Yu8Nefz"
      }
    },
    {
      "cell_type": "markdown",
      "source": [
        "Tassavur qiling bizda ikkita ma'lumotlar (massivlar) mavjud bular: **xarr** va **yarr**. Agarda shart **True**ni qanoatlantirsa **xarr** elementini qabul qilgan aksincha esa **yarr** elementini qabul qilgan yangi massiv hosil qilinsin.Tassavur qiling bizda ikkita ma'lumotlar (massivlar) mavjud bular: **xarr** va **yarr**. Agarda shart **True**ni qanoatlantirsa **xarr** elementini qabul qilgan aksincha esa **yarr** elementini qabul qilgan yangi massiv hosil qilinsin."
      ],
      "metadata": {
        "id": "oEcmrpivNiSl"
      }
    },
    {
      "cell_type": "code",
      "source": [
        "# Massivlar\n",
        "xarr=np.array([1.1, 1.2, 1.3, 1.4, 1.5]) #xarr\n",
        "yarr=np.array([2.1, 2.2, 2.3, 2.4, 2.5]) #yarr"
      ],
      "metadata": {
        "id": "FOAM3oiyN1AA"
      },
      "execution_count": 2,
      "outputs": []
    },
    {
      "cell_type": "code",
      "source": [
        "#shart\n",
        "cond=np.array([True, False, True, True, False])"
      ],
      "metadata": {
        "id": "H6j4rzb9OlHz"
      },
      "execution_count": 3,
      "outputs": []
    },
    {
      "cell_type": "code",
      "source": [
        "#where\n",
        "result=np.where(cond, xarr,yarr) # cond==True:xarr elementi, cond==False:yarr elementi\n",
        "result"
      ],
      "metadata": {
        "colab": {
          "base_uri": "https://localhost:8080/"
        },
        "id": "XM2i9MwpOweP",
        "outputId": "e1a70d13-0cb0-4473-fe78-a0e7bff8e5d4"
      },
      "execution_count": 4,
      "outputs": [
        {
          "output_type": "execute_result",
          "data": {
            "text/plain": [
              "array([1.1, 2.2, 1.3, 1.4, 2.5])"
            ]
          },
          "metadata": {},
          "execution_count": 4
        }
      ]
    },
    {
      "cell_type": "code",
      "source": [
        "arr=np.random.randn(4,4) #(4,4) taxminiy massiv\n",
        "arr"
      ],
      "metadata": {
        "colab": {
          "base_uri": "https://localhost:8080/"
        },
        "id": "OP8sYbsiPMs5",
        "outputId": "4595903c-671a-461b-ad0f-2b1958cb41fb"
      },
      "execution_count": 5,
      "outputs": [
        {
          "output_type": "execute_result",
          "data": {
            "text/plain": [
              "array([[ 2.44164665, -0.69406596, -0.56996356,  0.93926032],\n",
              "       [ 0.67820751, -0.16711176, -0.24449653,  1.21644958],\n",
              "       [ 0.05692866,  0.21382542, -0.800371  ,  0.78329731],\n",
              "       [ 0.41952858, -0.28489006, -2.386953  ,  0.80641947]])"
            ]
          },
          "metadata": {},
          "execution_count": 5
        }
      ]
    },
    {
      "cell_type": "code",
      "source": [
        "#where\n",
        "results=np.where(arr<0, -2,2) #arr ning manfiy elementlarini -2 ga musbat elementlarini esa 2 ga almashtirish\n",
        "results"
      ],
      "metadata": {
        "colab": {
          "base_uri": "https://localhost:8080/"
        },
        "id": "lS50tNvSPd8T",
        "outputId": "17b33657-62c2-4e27-f26e-0209105df7bf"
      },
      "execution_count": 6,
      "outputs": [
        {
          "output_type": "execute_result",
          "data": {
            "text/plain": [
              "array([[ 2, -2, -2,  2],\n",
              "       [ 2, -2, -2,  2],\n",
              "       [ 2,  2, -2,  2],\n",
              "       [ 2, -2, -2,  2]])"
            ]
          },
          "metadata": {},
          "execution_count": 6
        }
      ]
    },
    {
      "cell_type": "code",
      "source": [
        "results0=np.where(arr<0, -6,6)#arr ning manfiy elementlarini -6 ga musbat elementlarini esa 6 ga almashtitish\n",
        "results0"
      ],
      "metadata": {
        "colab": {
          "base_uri": "https://localhost:8080/"
        },
        "id": "MvOLsjfFQD9t",
        "outputId": "2ecbf07f-9d81-4d28-9fec-124d8fa38575"
      },
      "execution_count": 10,
      "outputs": [
        {
          "output_type": "execute_result",
          "data": {
            "text/plain": [
              "array([[ 6, -6, -6,  6],\n",
              "       [ 6, -6, -6,  6],\n",
              "       [ 6,  6, -6,  6],\n",
              "       [ 6, -6, -6,  6]])"
            ]
          },
          "metadata": {},
          "execution_count": 10
        }
      ]
    },
    {
      "cell_type": "code",
      "source": [
        "results1=np.where(arr>0, 1,0)#arr ning manfiy elementlarini 0 ga musbat elementlarini esa 1 ga almashtitish\n",
        "results1 "
      ],
      "metadata": {
        "colab": {
          "base_uri": "https://localhost:8080/"
        },
        "id": "Kq2pYW1xQZzz",
        "outputId": "32ac30d4-c50e-4d8b-fb06-94e87561dcd4"
      },
      "execution_count": 9,
      "outputs": [
        {
          "output_type": "execute_result",
          "data": {
            "text/plain": [
              "array([[1, 0, 0, 1],\n",
              "       [1, 0, 0, 1],\n",
              "       [1, 1, 0, 1],\n",
              "       [1, 0, 0, 1]])"
            ]
          },
          "metadata": {},
          "execution_count": 9
        }
      ]
    }
  ]
}