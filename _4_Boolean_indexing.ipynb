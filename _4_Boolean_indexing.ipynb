{
  "nbformat": 4,
  "nbformat_minor": 0,
  "metadata": {
    "colab": {
      "name": "#4_Boolean_indexing.ipynb",
      "provenance": [],
      "collapsed_sections": [],
      "authorship_tag": "ABX9TyMupAvH/oCJnA+TImoDbVtw",
      "include_colab_link": true
    },
    "kernelspec": {
      "name": "python3",
      "display_name": "Python 3"
    },
    "language_info": {
      "name": "python"
    }
  },
  "cells": [
    {
      "cell_type": "markdown",
      "metadata": {
        "id": "view-in-github",
        "colab_type": "text"
      },
      "source": [
        "<a href=\"https://colab.research.google.com/github/ffayzullaev/Data_Science_MohirDev/blob/main/_4_Boolean_indexing.ipynb\" target=\"_parent\"><img src=\"https://colab.research.google.com/assets/colab-badge.svg\" alt=\"Open In Colab\"/></a>"
      ]
    },
    {
      "cell_type": "markdown",
      "source": [
        "Ma'lumotlar tahlili.\n",
        "2.1. NumPy kutubxonasi bilan ishlash\n",
        "NumPy kutubxonasini chaqirib olish"
      ],
      "metadata": {
        "id": "fNdbo2YJeB-N"
      }
    },
    {
      "cell_type": "code",
      "execution_count": 1,
      "metadata": {
        "id": "wIJzm-Tdd1Cs"
      },
      "outputs": [],
      "source": [
        "import numpy as np"
      ]
    },
    {
      "cell_type": "markdown",
      "source": [
        "2.1.1 N-o'lchamli massiv(array)larga ishlov berish\n",
        "\n",
        "Boolean indekslash"
      ],
      "metadata": {
        "id": "tPL0NOJPeLIu"
      }
    },
    {
      "cell_type": "code",
      "source": [
        "#Ismlar\n",
        "names=np.array(['Hasan', 'Husan', 'Mirzabek', 'Elyor', 'Hasan', 'Javohir', 'Elyor'])\n",
        "names"
      ],
      "metadata": {
        "colab": {
          "base_uri": "https://localhost:8080/"
        },
        "id": "lt1vI0b2eKL4",
        "outputId": "d4fc9799-a6fc-4e23-9510-5bb152c15292"
      },
      "execution_count": 2,
      "outputs": [
        {
          "output_type": "execute_result",
          "data": {
            "text/plain": [
              "array(['Hasan', 'Husan', 'Mirzabek', 'Elyor', 'Hasan', 'Javohir', 'Elyor'],\n",
              "      dtype='<U8')"
            ]
          },
          "metadata": {},
          "execution_count": 2
        }
      ]
    },
    {
      "cell_type": "code",
      "source": [
        "#data\n",
        "data=np.random.randn(7,4)\n",
        "data"
      ],
      "metadata": {
        "colab": {
          "base_uri": "https://localhost:8080/"
        },
        "id": "9CADiaiae5Zt",
        "outputId": "153367f2-6e2b-42b7-ff1c-27be05ca24a3"
      },
      "execution_count": 3,
      "outputs": [
        {
          "output_type": "execute_result",
          "data": {
            "text/plain": [
              "array([[-0.2921507 ,  2.18277002,  0.78254793,  2.77510495],\n",
              "       [ 1.55463451, -1.25605343,  1.36216416,  0.99543817],\n",
              "       [ 0.80857082,  0.09432598, -1.09863432, -1.30987374],\n",
              "       [ 0.98174395,  0.09566609, -0.76866342,  0.27419973],\n",
              "       [ 0.72401901, -0.07459557, -0.30765223, -0.34423618],\n",
              "       [-2.10198317,  0.8940882 ,  0.56004376, -0.30234889],\n",
              "       [-0.19514295, -1.72507688,  1.10361484,  1.18339899]])"
            ]
          },
          "metadata": {},
          "execution_count": 3
        }
      ]
    },
    {
      "cell_type": "code",
      "source": [
        "names=='Hasan'"
      ],
      "metadata": {
        "colab": {
          "base_uri": "https://localhost:8080/"
        },
        "id": "jhYaxV9BfK61",
        "outputId": "b6341a98-eb21-4320-e880-6ef1b7b03f03"
      },
      "execution_count": 4,
      "outputs": [
        {
          "output_type": "execute_result",
          "data": {
            "text/plain": [
              "array([ True, False, False, False,  True, False, False])"
            ]
          },
          "metadata": {},
          "execution_count": 4
        }
      ]
    },
    {
      "cell_type": "code",
      "source": [
        "data[names=='Hasan'] #Hasanga tegishli barcha ma'lmotlarni ajratib olsh"
      ],
      "metadata": {
        "colab": {
          "base_uri": "https://localhost:8080/"
        },
        "id": "yCIWpBdLgqxJ",
        "outputId": "377d492c-5d96-4309-9b65-8eaa614a8450"
      },
      "execution_count": 5,
      "outputs": [
        {
          "output_type": "execute_result",
          "data": {
            "text/plain": [
              "array([[-0.2921507 ,  2.18277002,  0.78254793,  2.77510495],\n",
              "       [ 0.72401901, -0.07459557, -0.30765223, -0.34423618]])"
            ]
          },
          "metadata": {},
          "execution_count": 5
        }
      ]
    },
    {
      "cell_type": "code",
      "source": [
        "data[names=='Elyor'] #Elyorga tegishli barcha ma'lmotlarni ajratib olsh"
      ],
      "metadata": {
        "colab": {
          "base_uri": "https://localhost:8080/"
        },
        "id": "UJpO2ySSg9Si",
        "outputId": "988ebb74-bee6-4c0d-ef68-8bd31f83fb7a"
      },
      "execution_count": 9,
      "outputs": [
        {
          "output_type": "execute_result",
          "data": {
            "text/plain": [
              "array([[ 0.98174395,  0.09566609, -0.76866342,  0.27419973],\n",
              "       [-0.19514295, -1.72507688,  1.10361484,  1.18339899]])"
            ]
          },
          "metadata": {},
          "execution_count": 9
        }
      ]
    },
    {
      "cell_type": "code",
      "source": [
        "data[names=='Mirzabek']#Mirzabekga tegishli barcha ma'lmotlarni ajratib olsh"
      ],
      "metadata": {
        "colab": {
          "base_uri": "https://localhost:8080/"
        },
        "id": "JmBFDHaxhH9d",
        "outputId": "8b8b10ff-bef3-48e7-a84b-287f9d2a7ada"
      },
      "execution_count": 8,
      "outputs": [
        {
          "output_type": "execute_result",
          "data": {
            "text/plain": [
              "array([[ 0.80857082,  0.09432598, -1.09863432, -1.30987374]])"
            ]
          },
          "metadata": {},
          "execution_count": 8
        }
      ]
    },
    {
      "cell_type": "code",
      "source": [
        "data[names=='Hasan', 2:] #Hasanga tegishli oxirgi ikkita ustundagi ma'lumotlarni ajratib olish"
      ],
      "metadata": {
        "colab": {
          "base_uri": "https://localhost:8080/"
        },
        "id": "P6ahY-UKhN-B",
        "outputId": "ccd496a2-9735-45af-adfa-b3527ac4efa6"
      },
      "execution_count": 10,
      "outputs": [
        {
          "output_type": "execute_result",
          "data": {
            "text/plain": [
              "array([[ 0.78254793,  2.77510495],\n",
              "       [-0.30765223, -0.34423618]])"
            ]
          },
          "metadata": {},
          "execution_count": 10
        }
      ]
    },
    {
      "cell_type": "code",
      "source": [
        "data[names=='Husan', 1:3] #Husnga tegishli [1:3] ustundagi ma'lumotlarni ajratib olish"
      ],
      "metadata": {
        "colab": {
          "base_uri": "https://localhost:8080/"
        },
        "id": "quCc8TR_hy0q",
        "outputId": "399b2cba-0bcc-49c8-d067-16537b61a753"
      },
      "execution_count": 12,
      "outputs": [
        {
          "output_type": "execute_result",
          "data": {
            "text/plain": [
              "array([[-1.25605343,  1.36216416]])"
            ]
          },
          "metadata": {},
          "execution_count": 12
        }
      ]
    },
    {
      "cell_type": "code",
      "source": [
        "data[names=='Javohir', 0:3] #Javohirga tegishli [0:3] ustundagi ma'umotlarni ajratib olish"
      ],
      "metadata": {
        "colab": {
          "base_uri": "https://localhost:8080/"
        },
        "id": "IZ0EtsYliMLk",
        "outputId": "4813f47b-e392-43ac-ba46-d64628ed86f1"
      },
      "execution_count": 14,
      "outputs": [
        {
          "output_type": "execute_result",
          "data": {
            "text/plain": [
              "array([[-2.10198317,  0.8940882 ,  0.56004376]])"
            ]
          },
          "metadata": {},
          "execution_count": 14
        }
      ]
    },
    {
      "cell_type": "code",
      "source": [
        "data[names!='Hasan'] #(!=)  Hasndan tashqari barcha insonlarning ma'lumotlarni ajratib olish"
      ],
      "metadata": {
        "colab": {
          "base_uri": "https://localhost:8080/"
        },
        "id": "42tk2jJaiuKG",
        "outputId": "5e0b3894-b416-4ecc-8c50-e3d781c15a53"
      },
      "execution_count": 15,
      "outputs": [
        {
          "output_type": "execute_result",
          "data": {
            "text/plain": [
              "array([[ 1.55463451, -1.25605343,  1.36216416,  0.99543817],\n",
              "       [ 0.80857082,  0.09432598, -1.09863432, -1.30987374],\n",
              "       [ 0.98174395,  0.09566609, -0.76866342,  0.27419973],\n",
              "       [-2.10198317,  0.8940882 ,  0.56004376, -0.30234889],\n",
              "       [-0.19514295, -1.72507688,  1.10361484,  1.18339899]])"
            ]
          },
          "metadata": {},
          "execution_count": 15
        }
      ]
    },
    {
      "cell_type": "code",
      "source": [
        "data[~(names=='Hasan')] #(~) yuqoridagi cell bilan bir xil natijani berar ekan"
      ],
      "metadata": {
        "colab": {
          "base_uri": "https://localhost:8080/"
        },
        "id": "-XtXZOIIjOFv",
        "outputId": "374af50c-c26c-4fcd-c22b-31ad7b5ee59d"
      },
      "execution_count": 17,
      "outputs": [
        {
          "output_type": "execute_result",
          "data": {
            "text/plain": [
              "array([[ 1.55463451, -1.25605343,  1.36216416,  0.99543817],\n",
              "       [ 0.80857082,  0.09432598, -1.09863432, -1.30987374],\n",
              "       [ 0.98174395,  0.09566609, -0.76866342,  0.27419973],\n",
              "       [-2.10198317,  0.8940882 ,  0.56004376, -0.30234889],\n",
              "       [-0.19514295, -1.72507688,  1.10361484,  1.18339899]])"
            ]
          },
          "metadata": {},
          "execution_count": 17
        }
      ]
    },
    {
      "cell_type": "code",
      "source": [
        "print(names)\n",
        "print(data)"
      ],
      "metadata": {
        "colab": {
          "base_uri": "https://localhost:8080/"
        },
        "id": "Wi3_XD5qkA_S",
        "outputId": "5c9f3f91-9600-4808-82e3-e83a5cd7e5e8"
      },
      "execution_count": 19,
      "outputs": [
        {
          "output_type": "stream",
          "name": "stdout",
          "text": [
            "['Hasan' 'Husan' 'Mirzabek' 'Elyor' 'Hasan' 'Javohir' 'Elyor']\n",
            "[[-0.2921507   2.18277002  0.78254793  2.77510495]\n",
            " [ 1.55463451 -1.25605343  1.36216416  0.99543817]\n",
            " [ 0.80857082  0.09432598 -1.09863432 -1.30987374]\n",
            " [ 0.98174395  0.09566609 -0.76866342  0.27419973]\n",
            " [ 0.72401901 -0.07459557 -0.30765223 -0.34423618]\n",
            " [-2.10198317  0.8940882   0.56004376 -0.30234889]\n",
            " [-0.19514295 -1.72507688  1.10361484  1.18339899]]\n"
          ]
        }
      ]
    },
    {
      "cell_type": "code",
      "source": [
        "mask = (names=='Hasan') | (names=='Husan') # \" | \" -or (yoki)\n",
        "mask"
      ],
      "metadata": {
        "colab": {
          "base_uri": "https://localhost:8080/"
        },
        "id": "n-IS2VlekNGv",
        "outputId": "3ad8b6a5-5776-474c-96bc-893e8932c7d2"
      },
      "execution_count": 21,
      "outputs": [
        {
          "output_type": "execute_result",
          "data": {
            "text/plain": [
              "array([ True,  True, False, False,  True, False, False])"
            ]
          },
          "metadata": {},
          "execution_count": 21
        }
      ]
    },
    {
      "cell_type": "code",
      "source": [
        "data[mask] #Hasan va Husanga tegishli ma'lumotlarni ajratib olish"
      ],
      "metadata": {
        "colab": {
          "base_uri": "https://localhost:8080/"
        },
        "id": "eAzLY1hLkVnP",
        "outputId": "d455c4a9-8df1-418a-a743-6f1233170500"
      },
      "execution_count": 22,
      "outputs": [
        {
          "output_type": "execute_result",
          "data": {
            "text/plain": [
              "array([[-0.2921507 ,  2.18277002,  0.78254793,  2.77510495],\n",
              "       [ 1.55463451, -1.25605343,  1.36216416,  0.99543817],\n",
              "       [ 0.72401901, -0.07459557, -0.30765223, -0.34423618]])"
            ]
          },
          "metadata": {},
          "execution_count": 22
        }
      ]
    },
    {
      "cell_type": "code",
      "source": [
        "data"
      ],
      "metadata": {
        "colab": {
          "base_uri": "https://localhost:8080/"
        },
        "id": "vkYSZXiUk6R0",
        "outputId": "610fa94f-79ef-4794-da46-db254ff8f11a"
      },
      "execution_count": 23,
      "outputs": [
        {
          "output_type": "execute_result",
          "data": {
            "text/plain": [
              "array([[-0.2921507 ,  2.18277002,  0.78254793,  2.77510495],\n",
              "       [ 1.55463451, -1.25605343,  1.36216416,  0.99543817],\n",
              "       [ 0.80857082,  0.09432598, -1.09863432, -1.30987374],\n",
              "       [ 0.98174395,  0.09566609, -0.76866342,  0.27419973],\n",
              "       [ 0.72401901, -0.07459557, -0.30765223, -0.34423618],\n",
              "       [-2.10198317,  0.8940882 ,  0.56004376, -0.30234889],\n",
              "       [-0.19514295, -1.72507688,  1.10361484,  1.18339899]])"
            ]
          },
          "metadata": {},
          "execution_count": 23
        }
      ]
    },
    {
      "cell_type": "code",
      "source": [
        "data[data<0]=0\n",
        "data"
      ],
      "metadata": {
        "colab": {
          "base_uri": "https://localhost:8080/"
        },
        "id": "tUbdiJvglA95",
        "outputId": "520a8ad9-05ab-40cf-f237-ad5b1faaed1b"
      },
      "execution_count": 25,
      "outputs": [
        {
          "output_type": "execute_result",
          "data": {
            "text/plain": [
              "array([[0.        , 2.18277002, 0.78254793, 2.77510495],\n",
              "       [1.55463451, 0.        , 1.36216416, 0.99543817],\n",
              "       [0.80857082, 0.09432598, 0.        , 0.        ],\n",
              "       [0.98174395, 0.09566609, 0.        , 0.27419973],\n",
              "       [0.72401901, 0.        , 0.        , 0.        ],\n",
              "       [0.        , 0.8940882 , 0.56004376, 0.        ],\n",
              "       [0.        , 0.        , 1.10361484, 1.18339899]])"
            ]
          },
          "metadata": {},
          "execution_count": 25
        }
      ]
    }
  ]
}