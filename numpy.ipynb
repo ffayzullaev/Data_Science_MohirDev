{
  "nbformat": 4,
  "nbformat_minor": 0,
  "metadata": {
    "colab": {
      "name": "numpy.ipynb",
      "provenance": [],
      "collapsed_sections": [],
      "authorship_tag": "ABX9TyNXXivP3ucbu+nwTXIfN7rP",
      "include_colab_link": true
    },
    "kernelspec": {
      "name": "python3",
      "display_name": "Python 3"
    },
    "language_info": {
      "name": "python"
    }
  },
  "cells": [
    {
      "cell_type": "markdown",
      "metadata": {
        "id": "view-in-github",
        "colab_type": "text"
      },
      "source": [
        "<a href=\"https://colab.research.google.com/github/ffayzullaev/Data_Science_MohirDev/blob/main/numpy.ipynb\" target=\"_parent\"><img src=\"https://colab.research.google.com/assets/colab-badge.svg\" alt=\"Open In Colab\"/></a>"
      ]
    },
    {
      "cell_type": "markdown",
      "source": [
        "Ma'lumotlar tahlili. NumPy kutubxonasi."
      ],
      "metadata": {
        "id": "Z06jE_fHSS49"
      }
    },
    {
      "cell_type": "markdown",
      "source": [
        "Fayllar bilan ishlash"
      ],
      "metadata": {
        "id": "LeMtPg9zSTQy"
      }
    },
    {
      "cell_type": "code",
      "execution_count": 1,
      "metadata": {
        "id": "LolaQ4e1Qbqp"
      },
      "outputs": [],
      "source": [
        "import numpy as np"
      ]
    },
    {
      "cell_type": "code",
      "source": [
        "arr = np.arange(10)"
      ],
      "metadata": {
        "id": "ORpHJnsYSkAq"
      },
      "execution_count": 2,
      "outputs": []
    },
    {
      "cell_type": "code",
      "source": [
        "arr"
      ],
      "metadata": {
        "colab": {
          "base_uri": "https://localhost:8080/"
        },
        "id": "bS1vQeRfSus7",
        "outputId": "67b18795-38be-4dbd-f0c7-73a1eb382b50"
      },
      "execution_count": 3,
      "outputs": [
        {
          "output_type": "execute_result",
          "data": {
            "text/plain": [
              "array([0, 1, 2, 3, 4, 5, 6, 7, 8, 9])"
            ]
          },
          "metadata": {},
          "execution_count": 3
        }
      ]
    },
    {
      "cell_type": "markdown",
      "source": [
        "**np.save()** fayl yatarib olish"
      ],
      "metadata": {
        "id": "Gnl2mGXFTOji"
      }
    },
    {
      "cell_type": "code",
      "source": [
        "np.save('data',arr)"
      ],
      "metadata": {
        "id": "Yx7KP2DvSvHe"
      },
      "execution_count": 4,
      "outputs": []
    },
    {
      "cell_type": "markdown",
      "source": [
        "**np.load()** yaratilgan faylni o'qish"
      ],
      "metadata": {
        "id": "8LtZB2y0TVv8"
      }
    },
    {
      "cell_type": "code",
      "source": [
        "arr2=np.load('data.npy')"
      ],
      "metadata": {
        "id": "CbxQi3nETJJX"
      },
      "execution_count": 5,
      "outputs": []
    },
    {
      "cell_type": "code",
      "source": [
        "arr2"
      ],
      "metadata": {
        "colab": {
          "base_uri": "https://localhost:8080/"
        },
        "id": "B6wHmrRWTkZ8",
        "outputId": "e519dde1-a02b-4d68-d06f-b5fd67bf5d72"
      },
      "execution_count": 6,
      "outputs": [
        {
          "output_type": "execute_result",
          "data": {
            "text/plain": [
              "array([0, 1, 2, 3, 4, 5, 6, 7, 8, 9])"
            ]
          },
          "metadata": {},
          "execution_count": 6
        }
      ]
    },
    {
      "cell_type": "code",
      "source": [
        "arr1=np.arange(20) "
      ],
      "metadata": {
        "id": "-Wdl2eTDTlOS"
      },
      "execution_count": 7,
      "outputs": []
    },
    {
      "cell_type": "markdown",
      "source": [
        "**np.savez()**  birdan ko'prok fayllarni saqlash "
      ],
      "metadata": {
        "id": "teXL1DfdTuGu"
      }
    },
    {
      "cell_type": "code",
      "source": [
        "np.savez('arrays', a=arr, b=arr1)"
      ],
      "metadata": {
        "id": "UG0XzeKiTrcT"
      },
      "execution_count": 8,
      "outputs": []
    },
    {
      "cell_type": "code",
      "source": [
        "arrays=np.load('arrays.npz')"
      ],
      "metadata": {
        "id": "4bBZh4P5UA5E"
      },
      "execution_count": 9,
      "outputs": []
    },
    {
      "cell_type": "code",
      "source": [
        "arrays['a']"
      ],
      "metadata": {
        "colab": {
          "base_uri": "https://localhost:8080/"
        },
        "id": "sj1Sj27vUK-R",
        "outputId": "e3b08273-a509-41d5-f764-32e374fd769a"
      },
      "execution_count": 10,
      "outputs": [
        {
          "output_type": "execute_result",
          "data": {
            "text/plain": [
              "array([0, 1, 2, 3, 4, 5, 6, 7, 8, 9])"
            ]
          },
          "metadata": {},
          "execution_count": 10
        }
      ]
    },
    {
      "cell_type": "code",
      "source": [
        "arrays['b']"
      ],
      "metadata": {
        "colab": {
          "base_uri": "https://localhost:8080/"
        },
        "id": "4oeD3UXNUQlz",
        "outputId": "46715b1f-39d5-4ef6-a12e-49b76652bdc1"
      },
      "execution_count": 11,
      "outputs": [
        {
          "output_type": "execute_result",
          "data": {
            "text/plain": [
              "array([ 0,  1,  2,  3,  4,  5,  6,  7,  8,  9, 10, 11, 12, 13, 14, 15, 16,\n",
              "       17, 18, 19])"
            ]
          },
          "metadata": {},
          "execution_count": 11
        }
      ]
    },
    {
      "cell_type": "markdown",
      "source": [
        "**np.save_compressed** fayllarni arraylarni siqilgan holatda saqlaydi"
      ],
      "metadata": {
        "id": "ylT_QLOoUYil"
      }
    },
    {
      "cell_type": "code",
      "source": [
        "np.savez_compressed('array_comp.npz', a=arr, b=arr1)"
      ],
      "metadata": {
        "id": "d6MjHWRJUSbT"
      },
      "execution_count": 12,
      "outputs": []
    }
  ]
}