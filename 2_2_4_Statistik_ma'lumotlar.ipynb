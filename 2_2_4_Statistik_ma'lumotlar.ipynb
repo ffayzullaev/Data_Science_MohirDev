{
  "nbformat": 4,
  "nbformat_minor": 0,
  "metadata": {
    "colab": {
      "provenance": [],
      "toc_visible": true,
      "authorship_tag": "ABX9TyMmrwLGbcMs/x1vFelu7H99",
      "include_colab_link": true
    },
    "kernelspec": {
      "name": "python3",
      "display_name": "Python 3"
    },
    "language_info": {
      "name": "python"
    }
  },
  "cells": [
    {
      "cell_type": "markdown",
      "metadata": {
        "id": "view-in-github",
        "colab_type": "text"
      },
      "source": [
        "<a href=\"https://colab.research.google.com/github/ffayzullaev/Data_Science_MohirDev/blob/main/2_2_4_Statistik_ma'lumotlar.ipynb\" target=\"_parent\"><img src=\"https://colab.research.google.com/assets/colab-badge.svg\" alt=\"Open In Colab\"/></a>"
      ]
    },
    {
      "cell_type": "markdown",
      "source": [
        "# Data Science va Sun'iy Intellekt Praktikum"
      ],
      "metadata": {
        "id": "aNm7tWYQhZjG"
      }
    },
    {
      "cell_type": "markdown",
      "source": [
        "Ma'lumotlar tahlili. Pandas kutubxonasi.*italik metin*"
      ],
      "metadata": {
        "id": "vctoYnFzheOD"
      }
    },
    {
      "cell_type": "markdown",
      "source": [
        "2.2.4 Statistik ma'lumotlar"
      ],
      "metadata": {
        "id": "oOfqWoIEhlQa"
      }
    },
    {
      "cell_type": "code",
      "source": [
        "import pandas as pd"
      ],
      "metadata": {
        "id": "aT_KCmdFhqDe"
      },
      "execution_count": 1,
      "outputs": []
    },
    {
      "cell_type": "code",
      "source": [
        "import numpy as np"
      ],
      "metadata": {
        "id": "61yXOdJThs4E"
      },
      "execution_count": 3,
      "outputs": []
    },
    {
      "cell_type": "code",
      "source": [
        "df = pd.read_csv('https://raw.githubusercontent.com/anvarnarz/praktikum_datasets/main/uzbekistan.csv', index_col=0)\n",
        "df.columns = ['maydoni', 'aholisi']\n",
        "df"
      ],
      "metadata": {
        "colab": {
          "base_uri": "https://localhost:8080/",
          "height": 488
        },
        "id": "zj8K9nMPhveX",
        "outputId": "625586a2-9b21-467d-9e8e-8960e5bb923c"
      },
      "execution_count": 4,
      "outputs": [
        {
          "output_type": "execute_result",
          "data": {
            "text/plain": [
              "                                maydoni    aholisi\n",
              "Boʻlinishi                                        \n",
              "Andijon viloyati                 4200.0  1899000.0\n",
              "Buxoro viloyati                 39400.0  1384700.0\n",
              "Fargʻona viloyati                6800.0  2597000.0\n",
              "Jizzax viloyati                 20500.0   910500.0\n",
              "Xorazm viloyati                  6300.0  1200000.0\n",
              "Namangan viloyati                7900.0  1862000.0\n",
              "Navoiy viloyati                110800.0   767500.0\n",
              "Qashqadaryo viloyati            28400.0  2029000.0\n",
              "Qoraqalpogʻiston Respublikasi  160000.0  1200000.0\n",
              "Samarqand viloyati              16400.0  2322000.0\n",
              "Sirdaryo viloyati                5100.0   648100.0\n",
              "Surxondaryo viloyati            20800.0  1676000.0\n",
              "Toshkent viloyati               15300.0  4450000.0"
            ],
            "text/html": [
              "\n",
              "  <div id=\"df-2383c1ab-cfcd-4db9-95b2-bcefb2fafa93\">\n",
              "    <div class=\"colab-df-container\">\n",
              "      <div>\n",
              "<style scoped>\n",
              "    .dataframe tbody tr th:only-of-type {\n",
              "        vertical-align: middle;\n",
              "    }\n",
              "\n",
              "    .dataframe tbody tr th {\n",
              "        vertical-align: top;\n",
              "    }\n",
              "\n",
              "    .dataframe thead th {\n",
              "        text-align: right;\n",
              "    }\n",
              "</style>\n",
              "<table border=\"1\" class=\"dataframe\">\n",
              "  <thead>\n",
              "    <tr style=\"text-align: right;\">\n",
              "      <th></th>\n",
              "      <th>maydoni</th>\n",
              "      <th>aholisi</th>\n",
              "    </tr>\n",
              "    <tr>\n",
              "      <th>Boʻlinishi</th>\n",
              "      <th></th>\n",
              "      <th></th>\n",
              "    </tr>\n",
              "  </thead>\n",
              "  <tbody>\n",
              "    <tr>\n",
              "      <th>Andijon viloyati</th>\n",
              "      <td>4200.0</td>\n",
              "      <td>1899000.0</td>\n",
              "    </tr>\n",
              "    <tr>\n",
              "      <th>Buxoro viloyati</th>\n",
              "      <td>39400.0</td>\n",
              "      <td>1384700.0</td>\n",
              "    </tr>\n",
              "    <tr>\n",
              "      <th>Fargʻona viloyati</th>\n",
              "      <td>6800.0</td>\n",
              "      <td>2597000.0</td>\n",
              "    </tr>\n",
              "    <tr>\n",
              "      <th>Jizzax viloyati</th>\n",
              "      <td>20500.0</td>\n",
              "      <td>910500.0</td>\n",
              "    </tr>\n",
              "    <tr>\n",
              "      <th>Xorazm viloyati</th>\n",
              "      <td>6300.0</td>\n",
              "      <td>1200000.0</td>\n",
              "    </tr>\n",
              "    <tr>\n",
              "      <th>Namangan viloyati</th>\n",
              "      <td>7900.0</td>\n",
              "      <td>1862000.0</td>\n",
              "    </tr>\n",
              "    <tr>\n",
              "      <th>Navoiy viloyati</th>\n",
              "      <td>110800.0</td>\n",
              "      <td>767500.0</td>\n",
              "    </tr>\n",
              "    <tr>\n",
              "      <th>Qashqadaryo viloyati</th>\n",
              "      <td>28400.0</td>\n",
              "      <td>2029000.0</td>\n",
              "    </tr>\n",
              "    <tr>\n",
              "      <th>Qoraqalpogʻiston Respublikasi</th>\n",
              "      <td>160000.0</td>\n",
              "      <td>1200000.0</td>\n",
              "    </tr>\n",
              "    <tr>\n",
              "      <th>Samarqand viloyati</th>\n",
              "      <td>16400.0</td>\n",
              "      <td>2322000.0</td>\n",
              "    </tr>\n",
              "    <tr>\n",
              "      <th>Sirdaryo viloyati</th>\n",
              "      <td>5100.0</td>\n",
              "      <td>648100.0</td>\n",
              "    </tr>\n",
              "    <tr>\n",
              "      <th>Surxondaryo viloyati</th>\n",
              "      <td>20800.0</td>\n",
              "      <td>1676000.0</td>\n",
              "    </tr>\n",
              "    <tr>\n",
              "      <th>Toshkent viloyati</th>\n",
              "      <td>15300.0</td>\n",
              "      <td>4450000.0</td>\n",
              "    </tr>\n",
              "  </tbody>\n",
              "</table>\n",
              "</div>\n",
              "      <button class=\"colab-df-convert\" onclick=\"convertToInteractive('df-2383c1ab-cfcd-4db9-95b2-bcefb2fafa93')\"\n",
              "              title=\"Convert this dataframe to an interactive table.\"\n",
              "              style=\"display:none;\">\n",
              "        \n",
              "  <svg xmlns=\"http://www.w3.org/2000/svg\" height=\"24px\"viewBox=\"0 0 24 24\"\n",
              "       width=\"24px\">\n",
              "    <path d=\"M0 0h24v24H0V0z\" fill=\"none\"/>\n",
              "    <path d=\"M18.56 5.44l.94 2.06.94-2.06 2.06-.94-2.06-.94-.94-2.06-.94 2.06-2.06.94zm-11 1L8.5 8.5l.94-2.06 2.06-.94-2.06-.94L8.5 2.5l-.94 2.06-2.06.94zm10 10l.94 2.06.94-2.06 2.06-.94-2.06-.94-.94-2.06-.94 2.06-2.06.94z\"/><path d=\"M17.41 7.96l-1.37-1.37c-.4-.4-.92-.59-1.43-.59-.52 0-1.04.2-1.43.59L10.3 9.45l-7.72 7.72c-.78.78-.78 2.05 0 2.83L4 21.41c.39.39.9.59 1.41.59.51 0 1.02-.2 1.41-.59l7.78-7.78 2.81-2.81c.8-.78.8-2.07 0-2.86zM5.41 20L4 18.59l7.72-7.72 1.47 1.35L5.41 20z\"/>\n",
              "  </svg>\n",
              "      </button>\n",
              "      \n",
              "  <style>\n",
              "    .colab-df-container {\n",
              "      display:flex;\n",
              "      flex-wrap:wrap;\n",
              "      gap: 12px;\n",
              "    }\n",
              "\n",
              "    .colab-df-convert {\n",
              "      background-color: #E8F0FE;\n",
              "      border: none;\n",
              "      border-radius: 50%;\n",
              "      cursor: pointer;\n",
              "      display: none;\n",
              "      fill: #1967D2;\n",
              "      height: 32px;\n",
              "      padding: 0 0 0 0;\n",
              "      width: 32px;\n",
              "    }\n",
              "\n",
              "    .colab-df-convert:hover {\n",
              "      background-color: #E2EBFA;\n",
              "      box-shadow: 0px 1px 2px rgba(60, 64, 67, 0.3), 0px 1px 3px 1px rgba(60, 64, 67, 0.15);\n",
              "      fill: #174EA6;\n",
              "    }\n",
              "\n",
              "    [theme=dark] .colab-df-convert {\n",
              "      background-color: #3B4455;\n",
              "      fill: #D2E3FC;\n",
              "    }\n",
              "\n",
              "    [theme=dark] .colab-df-convert:hover {\n",
              "      background-color: #434B5C;\n",
              "      box-shadow: 0px 1px 3px 1px rgba(0, 0, 0, 0.15);\n",
              "      filter: drop-shadow(0px 1px 2px rgba(0, 0, 0, 0.3));\n",
              "      fill: #FFFFFF;\n",
              "    }\n",
              "  </style>\n",
              "\n",
              "      <script>\n",
              "        const buttonEl =\n",
              "          document.querySelector('#df-2383c1ab-cfcd-4db9-95b2-bcefb2fafa93 button.colab-df-convert');\n",
              "        buttonEl.style.display =\n",
              "          google.colab.kernel.accessAllowed ? 'block' : 'none';\n",
              "\n",
              "        async function convertToInteractive(key) {\n",
              "          const element = document.querySelector('#df-2383c1ab-cfcd-4db9-95b2-bcefb2fafa93');\n",
              "          const dataTable =\n",
              "            await google.colab.kernel.invokeFunction('convertToInteractive',\n",
              "                                                     [key], {});\n",
              "          if (!dataTable) return;\n",
              "\n",
              "          const docLinkHtml = 'Like what you see? Visit the ' +\n",
              "            '<a target=\"_blank\" href=https://colab.research.google.com/notebooks/data_table.ipynb>data table notebook</a>'\n",
              "            + ' to learn more about interactive tables.';\n",
              "          element.innerHTML = '';\n",
              "          dataTable['output_type'] = 'display_data';\n",
              "          await google.colab.output.renderOutput(dataTable, element);\n",
              "          const docLink = document.createElement('div');\n",
              "          docLink.innerHTML = docLinkHtml;\n",
              "          element.appendChild(docLink);\n",
              "        }\n",
              "      </script>\n",
              "    </div>\n",
              "  </div>\n",
              "  "
            ]
          },
          "metadata": {},
          "execution_count": 4
        }
      ]
    },
    {
      "cell_type": "markdown",
      "source": [
        "# summa"
      ],
      "metadata": {
        "id": "W3krx7OziQKC"
      }
    },
    {
      "cell_type": "markdown",
      "source": [
        ".sum() funksiyasi elemenlarning summasini ko'rsatadi"
      ],
      "metadata": {
        "id": "LRO06rQTiSMD"
      }
    },
    {
      "cell_type": "markdown",
      "source": [
        " Quyida O'zbekiston Respublikasini maydoni va aholisis sonini ko'rishimiz mumkin"
      ],
      "metadata": {
        "id": "PukllD7EibvT"
      }
    },
    {
      "cell_type": "code",
      "source": [
        "df.sum()"
      ],
      "metadata": {
        "colab": {
          "base_uri": "https://localhost:8080/"
        },
        "id": "R6DxkazriL9E",
        "outputId": "5ee62002-08e3-42a9-aafd-02a0d2520d1a"
      },
      "execution_count": 5,
      "outputs": [
        {
          "output_type": "execute_result",
          "data": {
            "text/plain": [
              "maydoni      441900.0\n",
              "aholisi    22945800.0\n",
              "dtype: float64"
            ]
          },
          "metadata": {},
          "execution_count": 5
        }
      ]
    },
    {
      "cell_type": "code",
      "source": [
        "df2 = pd.read_csv(\"https://raw.githubusercontent.com/anvarnarz/praktikum_datasets/main/gm_sales.csv\", index_col=0)\n",
        "df2.head()"
      ],
      "metadata": {
        "colab": {
          "base_uri": "https://localhost:8080/",
          "height": 206
        },
        "id": "Y_te1y12ifiM",
        "outputId": "25b16d5d-a5f3-42db-dab4-1cca453e9e2b"
      },
      "execution_count": 7,
      "outputs": [
        {
          "output_type": "execute_result",
          "data": {
            "text/plain": [
              "         2020   2021\n",
              "Labo     4521   7542\n",
              "Damas   30889  33682\n",
              "Spark   16370   6485\n",
              "Nexia   41663  14442\n",
              "Cobalt  44901  36317"
            ],
            "text/html": [
              "\n",
              "  <div id=\"df-9fdbd4c1-6b9a-42f8-b083-0dacc5818fa4\">\n",
              "    <div class=\"colab-df-container\">\n",
              "      <div>\n",
              "<style scoped>\n",
              "    .dataframe tbody tr th:only-of-type {\n",
              "        vertical-align: middle;\n",
              "    }\n",
              "\n",
              "    .dataframe tbody tr th {\n",
              "        vertical-align: top;\n",
              "    }\n",
              "\n",
              "    .dataframe thead th {\n",
              "        text-align: right;\n",
              "    }\n",
              "</style>\n",
              "<table border=\"1\" class=\"dataframe\">\n",
              "  <thead>\n",
              "    <tr style=\"text-align: right;\">\n",
              "      <th></th>\n",
              "      <th>2020</th>\n",
              "      <th>2021</th>\n",
              "    </tr>\n",
              "  </thead>\n",
              "  <tbody>\n",
              "    <tr>\n",
              "      <th>Labo</th>\n",
              "      <td>4521</td>\n",
              "      <td>7542</td>\n",
              "    </tr>\n",
              "    <tr>\n",
              "      <th>Damas</th>\n",
              "      <td>30889</td>\n",
              "      <td>33682</td>\n",
              "    </tr>\n",
              "    <tr>\n",
              "      <th>Spark</th>\n",
              "      <td>16370</td>\n",
              "      <td>6485</td>\n",
              "    </tr>\n",
              "    <tr>\n",
              "      <th>Nexia</th>\n",
              "      <td>41663</td>\n",
              "      <td>14442</td>\n",
              "    </tr>\n",
              "    <tr>\n",
              "      <th>Cobalt</th>\n",
              "      <td>44901</td>\n",
              "      <td>36317</td>\n",
              "    </tr>\n",
              "  </tbody>\n",
              "</table>\n",
              "</div>\n",
              "      <button class=\"colab-df-convert\" onclick=\"convertToInteractive('df-9fdbd4c1-6b9a-42f8-b083-0dacc5818fa4')\"\n",
              "              title=\"Convert this dataframe to an interactive table.\"\n",
              "              style=\"display:none;\">\n",
              "        \n",
              "  <svg xmlns=\"http://www.w3.org/2000/svg\" height=\"24px\"viewBox=\"0 0 24 24\"\n",
              "       width=\"24px\">\n",
              "    <path d=\"M0 0h24v24H0V0z\" fill=\"none\"/>\n",
              "    <path d=\"M18.56 5.44l.94 2.06.94-2.06 2.06-.94-2.06-.94-.94-2.06-.94 2.06-2.06.94zm-11 1L8.5 8.5l.94-2.06 2.06-.94-2.06-.94L8.5 2.5l-.94 2.06-2.06.94zm10 10l.94 2.06.94-2.06 2.06-.94-2.06-.94-.94-2.06-.94 2.06-2.06.94z\"/><path d=\"M17.41 7.96l-1.37-1.37c-.4-.4-.92-.59-1.43-.59-.52 0-1.04.2-1.43.59L10.3 9.45l-7.72 7.72c-.78.78-.78 2.05 0 2.83L4 21.41c.39.39.9.59 1.41.59.51 0 1.02-.2 1.41-.59l7.78-7.78 2.81-2.81c.8-.78.8-2.07 0-2.86zM5.41 20L4 18.59l7.72-7.72 1.47 1.35L5.41 20z\"/>\n",
              "  </svg>\n",
              "      </button>\n",
              "      \n",
              "  <style>\n",
              "    .colab-df-container {\n",
              "      display:flex;\n",
              "      flex-wrap:wrap;\n",
              "      gap: 12px;\n",
              "    }\n",
              "\n",
              "    .colab-df-convert {\n",
              "      background-color: #E8F0FE;\n",
              "      border: none;\n",
              "      border-radius: 50%;\n",
              "      cursor: pointer;\n",
              "      display: none;\n",
              "      fill: #1967D2;\n",
              "      height: 32px;\n",
              "      padding: 0 0 0 0;\n",
              "      width: 32px;\n",
              "    }\n",
              "\n",
              "    .colab-df-convert:hover {\n",
              "      background-color: #E2EBFA;\n",
              "      box-shadow: 0px 1px 2px rgba(60, 64, 67, 0.3), 0px 1px 3px 1px rgba(60, 64, 67, 0.15);\n",
              "      fill: #174EA6;\n",
              "    }\n",
              "\n",
              "    [theme=dark] .colab-df-convert {\n",
              "      background-color: #3B4455;\n",
              "      fill: #D2E3FC;\n",
              "    }\n",
              "\n",
              "    [theme=dark] .colab-df-convert:hover {\n",
              "      background-color: #434B5C;\n",
              "      box-shadow: 0px 1px 3px 1px rgba(0, 0, 0, 0.15);\n",
              "      filter: drop-shadow(0px 1px 2px rgba(0, 0, 0, 0.3));\n",
              "      fill: #FFFFFF;\n",
              "    }\n",
              "  </style>\n",
              "\n",
              "      <script>\n",
              "        const buttonEl =\n",
              "          document.querySelector('#df-9fdbd4c1-6b9a-42f8-b083-0dacc5818fa4 button.colab-df-convert');\n",
              "        buttonEl.style.display =\n",
              "          google.colab.kernel.accessAllowed ? 'block' : 'none';\n",
              "\n",
              "        async function convertToInteractive(key) {\n",
              "          const element = document.querySelector('#df-9fdbd4c1-6b9a-42f8-b083-0dacc5818fa4');\n",
              "          const dataTable =\n",
              "            await google.colab.kernel.invokeFunction('convertToInteractive',\n",
              "                                                     [key], {});\n",
              "          if (!dataTable) return;\n",
              "\n",
              "          const docLinkHtml = 'Like what you see? Visit the ' +\n",
              "            '<a target=\"_blank\" href=https://colab.research.google.com/notebooks/data_table.ipynb>data table notebook</a>'\n",
              "            + ' to learn more about interactive tables.';\n",
              "          element.innerHTML = '';\n",
              "          dataTable['output_type'] = 'display_data';\n",
              "          await google.colab.output.renderOutput(dataTable, element);\n",
              "          const docLink = document.createElement('div');\n",
              "          docLink.innerHTML = docLinkHtml;\n",
              "          element.appendChild(docLink);\n",
              "        }\n",
              "      </script>\n",
              "    </div>\n",
              "  </div>\n",
              "  "
            ]
          },
          "metadata": {},
          "execution_count": 7
        }
      ]
    },
    {
      "cell_type": "code",
      "source": [
        "# Quyida esa 2020 va 2021 yilda GM Uzbekistan tomonidan jami sotilgan moshinalar sonini ko'rishimiz mumkin\n",
        "df2.sum()"
      ],
      "metadata": {
        "colab": {
          "base_uri": "https://localhost:8080/"
        },
        "id": "5o6yzQ4bitVL",
        "outputId": "c6de64bc-def1-4633-ae86-d25ecd736b26"
      },
      "execution_count": 8,
      "outputs": [
        {
          "output_type": "execute_result",
          "data": {
            "text/plain": [
              "2020    168712\n",
              "2021    124734\n",
              "dtype: int64"
            ]
          },
          "metadata": {},
          "execution_count": 8
        }
      ]
    },
    {
      "cell_type": "markdown",
      "source": [
        " Quyida esa 2020 va 2021 yilda GM Uzbekistan tomonidan jami sotilgan moshinalar sonini ko'rishimiz mumkin"
      ],
      "metadata": {
        "id": "pK_HrgVkjKty"
      }
    },
    {
      "cell_type": "code",
      "source": [
        "df2.sum(axis=1) # yoki axis='columns'"
      ],
      "metadata": {
        "colab": {
          "base_uri": "https://localhost:8080/"
        },
        "id": "LFPweyg7jFZ8",
        "outputId": "dfa30695-311c-4223-8e37-ddd93a2ba520"
      },
      "execution_count": 9,
      "outputs": [
        {
          "output_type": "execute_result",
          "data": {
            "text/plain": [
              "Labo      12063\n",
              "Damas     64571\n",
              "Spark     22855\n",
              "Nexia     56105\n",
              "Cobalt    81218\n",
              "Gentra    56634\n",
              "dtype: int64"
            ]
          },
          "metadata": {},
          "execution_count": 9
        }
      ]
    },
    {
      "cell_type": "markdown",
      "source": [
        ".mean() - o'rta qiymatni hisoblash "
      ],
      "metadata": {
        "id": "Rl5LEmktj-zS"
      }
    },
    {
      "cell_type": "code",
      "source": [
        "df2.mean(axis=1)"
      ],
      "metadata": {
        "colab": {
          "base_uri": "https://localhost:8080/"
        },
        "id": "hKEni428jUO1",
        "outputId": "3a853cfb-9951-4ca5-b990-9a6207108a31"
      },
      "execution_count": 10,
      "outputs": [
        {
          "output_type": "execute_result",
          "data": {
            "text/plain": [
              "Labo       6031.5\n",
              "Damas     32285.5\n",
              "Spark     11427.5\n",
              "Nexia     28052.5\n",
              "Cobalt    40609.0\n",
              "Gentra    28317.0\n",
              "dtype: float64"
            ]
          },
          "metadata": {},
          "execution_count": 10
        }
      ]
    },
    {
      "cell_type": "markdown",
      "source": [
        "min va maximum qiymatlarini topish \n"
      ],
      "metadata": {
        "id": "0UpoSabukM8u"
      }
    },
    {
      "cell_type": "code",
      "source": [
        "df"
      ],
      "metadata": {
        "colab": {
          "base_uri": "https://localhost:8080/",
          "height": 488
        },
        "id": "9SaxCa4RkKNs",
        "outputId": "aa8fb8de-36fb-4c47-bc7c-5aa4ac161de0"
      },
      "execution_count": 11,
      "outputs": [
        {
          "output_type": "execute_result",
          "data": {
            "text/plain": [
              "                                maydoni    aholisi\n",
              "Boʻlinishi                                        \n",
              "Andijon viloyati                 4200.0  1899000.0\n",
              "Buxoro viloyati                 39400.0  1384700.0\n",
              "Fargʻona viloyati                6800.0  2597000.0\n",
              "Jizzax viloyati                 20500.0   910500.0\n",
              "Xorazm viloyati                  6300.0  1200000.0\n",
              "Namangan viloyati                7900.0  1862000.0\n",
              "Navoiy viloyati                110800.0   767500.0\n",
              "Qashqadaryo viloyati            28400.0  2029000.0\n",
              "Qoraqalpogʻiston Respublikasi  160000.0  1200000.0\n",
              "Samarqand viloyati              16400.0  2322000.0\n",
              "Sirdaryo viloyati                5100.0   648100.0\n",
              "Surxondaryo viloyati            20800.0  1676000.0\n",
              "Toshkent viloyati               15300.0  4450000.0"
            ],
            "text/html": [
              "\n",
              "  <div id=\"df-7cfa75e7-60c3-484d-a795-ced1c0b814e4\">\n",
              "    <div class=\"colab-df-container\">\n",
              "      <div>\n",
              "<style scoped>\n",
              "    .dataframe tbody tr th:only-of-type {\n",
              "        vertical-align: middle;\n",
              "    }\n",
              "\n",
              "    .dataframe tbody tr th {\n",
              "        vertical-align: top;\n",
              "    }\n",
              "\n",
              "    .dataframe thead th {\n",
              "        text-align: right;\n",
              "    }\n",
              "</style>\n",
              "<table border=\"1\" class=\"dataframe\">\n",
              "  <thead>\n",
              "    <tr style=\"text-align: right;\">\n",
              "      <th></th>\n",
              "      <th>maydoni</th>\n",
              "      <th>aholisi</th>\n",
              "    </tr>\n",
              "    <tr>\n",
              "      <th>Boʻlinishi</th>\n",
              "      <th></th>\n",
              "      <th></th>\n",
              "    </tr>\n",
              "  </thead>\n",
              "  <tbody>\n",
              "    <tr>\n",
              "      <th>Andijon viloyati</th>\n",
              "      <td>4200.0</td>\n",
              "      <td>1899000.0</td>\n",
              "    </tr>\n",
              "    <tr>\n",
              "      <th>Buxoro viloyati</th>\n",
              "      <td>39400.0</td>\n",
              "      <td>1384700.0</td>\n",
              "    </tr>\n",
              "    <tr>\n",
              "      <th>Fargʻona viloyati</th>\n",
              "      <td>6800.0</td>\n",
              "      <td>2597000.0</td>\n",
              "    </tr>\n",
              "    <tr>\n",
              "      <th>Jizzax viloyati</th>\n",
              "      <td>20500.0</td>\n",
              "      <td>910500.0</td>\n",
              "    </tr>\n",
              "    <tr>\n",
              "      <th>Xorazm viloyati</th>\n",
              "      <td>6300.0</td>\n",
              "      <td>1200000.0</td>\n",
              "    </tr>\n",
              "    <tr>\n",
              "      <th>Namangan viloyati</th>\n",
              "      <td>7900.0</td>\n",
              "      <td>1862000.0</td>\n",
              "    </tr>\n",
              "    <tr>\n",
              "      <th>Navoiy viloyati</th>\n",
              "      <td>110800.0</td>\n",
              "      <td>767500.0</td>\n",
              "    </tr>\n",
              "    <tr>\n",
              "      <th>Qashqadaryo viloyati</th>\n",
              "      <td>28400.0</td>\n",
              "      <td>2029000.0</td>\n",
              "    </tr>\n",
              "    <tr>\n",
              "      <th>Qoraqalpogʻiston Respublikasi</th>\n",
              "      <td>160000.0</td>\n",
              "      <td>1200000.0</td>\n",
              "    </tr>\n",
              "    <tr>\n",
              "      <th>Samarqand viloyati</th>\n",
              "      <td>16400.0</td>\n",
              "      <td>2322000.0</td>\n",
              "    </tr>\n",
              "    <tr>\n",
              "      <th>Sirdaryo viloyati</th>\n",
              "      <td>5100.0</td>\n",
              "      <td>648100.0</td>\n",
              "    </tr>\n",
              "    <tr>\n",
              "      <th>Surxondaryo viloyati</th>\n",
              "      <td>20800.0</td>\n",
              "      <td>1676000.0</td>\n",
              "    </tr>\n",
              "    <tr>\n",
              "      <th>Toshkent viloyati</th>\n",
              "      <td>15300.0</td>\n",
              "      <td>4450000.0</td>\n",
              "    </tr>\n",
              "  </tbody>\n",
              "</table>\n",
              "</div>\n",
              "      <button class=\"colab-df-convert\" onclick=\"convertToInteractive('df-7cfa75e7-60c3-484d-a795-ced1c0b814e4')\"\n",
              "              title=\"Convert this dataframe to an interactive table.\"\n",
              "              style=\"display:none;\">\n",
              "        \n",
              "  <svg xmlns=\"http://www.w3.org/2000/svg\" height=\"24px\"viewBox=\"0 0 24 24\"\n",
              "       width=\"24px\">\n",
              "    <path d=\"M0 0h24v24H0V0z\" fill=\"none\"/>\n",
              "    <path d=\"M18.56 5.44l.94 2.06.94-2.06 2.06-.94-2.06-.94-.94-2.06-.94 2.06-2.06.94zm-11 1L8.5 8.5l.94-2.06 2.06-.94-2.06-.94L8.5 2.5l-.94 2.06-2.06.94zm10 10l.94 2.06.94-2.06 2.06-.94-2.06-.94-.94-2.06-.94 2.06-2.06.94z\"/><path d=\"M17.41 7.96l-1.37-1.37c-.4-.4-.92-.59-1.43-.59-.52 0-1.04.2-1.43.59L10.3 9.45l-7.72 7.72c-.78.78-.78 2.05 0 2.83L4 21.41c.39.39.9.59 1.41.59.51 0 1.02-.2 1.41-.59l7.78-7.78 2.81-2.81c.8-.78.8-2.07 0-2.86zM5.41 20L4 18.59l7.72-7.72 1.47 1.35L5.41 20z\"/>\n",
              "  </svg>\n",
              "      </button>\n",
              "      \n",
              "  <style>\n",
              "    .colab-df-container {\n",
              "      display:flex;\n",
              "      flex-wrap:wrap;\n",
              "      gap: 12px;\n",
              "    }\n",
              "\n",
              "    .colab-df-convert {\n",
              "      background-color: #E8F0FE;\n",
              "      border: none;\n",
              "      border-radius: 50%;\n",
              "      cursor: pointer;\n",
              "      display: none;\n",
              "      fill: #1967D2;\n",
              "      height: 32px;\n",
              "      padding: 0 0 0 0;\n",
              "      width: 32px;\n",
              "    }\n",
              "\n",
              "    .colab-df-convert:hover {\n",
              "      background-color: #E2EBFA;\n",
              "      box-shadow: 0px 1px 2px rgba(60, 64, 67, 0.3), 0px 1px 3px 1px rgba(60, 64, 67, 0.15);\n",
              "      fill: #174EA6;\n",
              "    }\n",
              "\n",
              "    [theme=dark] .colab-df-convert {\n",
              "      background-color: #3B4455;\n",
              "      fill: #D2E3FC;\n",
              "    }\n",
              "\n",
              "    [theme=dark] .colab-df-convert:hover {\n",
              "      background-color: #434B5C;\n",
              "      box-shadow: 0px 1px 3px 1px rgba(0, 0, 0, 0.15);\n",
              "      filter: drop-shadow(0px 1px 2px rgba(0, 0, 0, 0.3));\n",
              "      fill: #FFFFFF;\n",
              "    }\n",
              "  </style>\n",
              "\n",
              "      <script>\n",
              "        const buttonEl =\n",
              "          document.querySelector('#df-7cfa75e7-60c3-484d-a795-ced1c0b814e4 button.colab-df-convert');\n",
              "        buttonEl.style.display =\n",
              "          google.colab.kernel.accessAllowed ? 'block' : 'none';\n",
              "\n",
              "        async function convertToInteractive(key) {\n",
              "          const element = document.querySelector('#df-7cfa75e7-60c3-484d-a795-ced1c0b814e4');\n",
              "          const dataTable =\n",
              "            await google.colab.kernel.invokeFunction('convertToInteractive',\n",
              "                                                     [key], {});\n",
              "          if (!dataTable) return;\n",
              "\n",
              "          const docLinkHtml = 'Like what you see? Visit the ' +\n",
              "            '<a target=\"_blank\" href=https://colab.research.google.com/notebooks/data_table.ipynb>data table notebook</a>'\n",
              "            + ' to learn more about interactive tables.';\n",
              "          element.innerHTML = '';\n",
              "          dataTable['output_type'] = 'display_data';\n",
              "          await google.colab.output.renderOutput(dataTable, element);\n",
              "          const docLink = document.createElement('div');\n",
              "          docLink.innerHTML = docLinkHtml;\n",
              "          element.appendChild(docLink);\n",
              "        }\n",
              "      </script>\n",
              "    </div>\n",
              "  </div>\n",
              "  "
            ]
          },
          "metadata": {},
          "execution_count": 11
        }
      ]
    },
    {
      "cell_type": "code",
      "source": [
        "df.idxmin()"
      ],
      "metadata": {
        "colab": {
          "base_uri": "https://localhost:8080/"
        },
        "id": "NTQec2l_kRgF",
        "outputId": "af6301ce-c2c0-4aaf-a6aa-a32a8d1435fd"
      },
      "execution_count": 13,
      "outputs": [
        {
          "output_type": "execute_result",
          "data": {
            "text/plain": [
              "maydoni     Andijon viloyati\n",
              "aholisi    Sirdaryo viloyati\n",
              "dtype: object"
            ]
          },
          "metadata": {},
          "execution_count": 13
        }
      ]
    },
    {
      "cell_type": "code",
      "source": [
        "df.idxmax()"
      ],
      "metadata": {
        "colab": {
          "base_uri": "https://localhost:8080/"
        },
        "id": "q9JxLiKDkq7t",
        "outputId": "ae3606d9-015d-49e0-9538-a4b882446529"
      },
      "execution_count": 14,
      "outputs": [
        {
          "output_type": "execute_result",
          "data": {
            "text/plain": [
              "maydoni    Qoraqalpogʻiston Respublikasi\n",
              "aholisi                Toshkent viloyati\n",
              "dtype: object"
            ]
          },
          "metadata": {},
          "execution_count": 14
        }
      ]
    },
    {
      "cell_type": "code",
      "source": [
        "df['maydoni'].argmax()"
      ],
      "metadata": {
        "colab": {
          "base_uri": "https://localhost:8080/"
        },
        "id": "9r2CD_sSkxPM",
        "outputId": "be2f4cc4-03ff-470d-d43d-d47e2102f9f9"
      },
      "execution_count": 15,
      "outputs": [
        {
          "output_type": "execute_result",
          "data": {
            "text/plain": [
              "8"
            ]
          },
          "metadata": {},
          "execution_count": 15
        }
      ]
    },
    {
      "cell_type": "code",
      "source": [
        "df['aholisi'].argmin()"
      ],
      "metadata": {
        "colab": {
          "base_uri": "https://localhost:8080/"
        },
        "id": "F_iFSZ2qk6ch",
        "outputId": "7b30ae4f-bca1-4f17-98e7-95bf231a8499"
      },
      "execution_count": 16,
      "outputs": [
        {
          "output_type": "execute_result",
          "data": {
            "text/plain": [
              "10"
            ]
          },
          "metadata": {},
          "execution_count": 16
        }
      ]
    },
    {
      "cell_type": "code",
      "source": [
        "df2"
      ],
      "metadata": {
        "colab": {
          "base_uri": "https://localhost:8080/",
          "height": 238
        },
        "id": "e8uYNwKnk_ip",
        "outputId": "1cbfe6ee-df32-4554-f18e-5819d52b1a04"
      },
      "execution_count": 17,
      "outputs": [
        {
          "output_type": "execute_result",
          "data": {
            "text/plain": [
              "         2020   2021\n",
              "Labo     4521   7542\n",
              "Damas   30889  33682\n",
              "Spark   16370   6485\n",
              "Nexia   41663  14442\n",
              "Cobalt  44901  36317\n",
              "Gentra  30368  26266"
            ],
            "text/html": [
              "\n",
              "  <div id=\"df-669ca159-8ca7-4307-bc4d-e0be0848d86b\">\n",
              "    <div class=\"colab-df-container\">\n",
              "      <div>\n",
              "<style scoped>\n",
              "    .dataframe tbody tr th:only-of-type {\n",
              "        vertical-align: middle;\n",
              "    }\n",
              "\n",
              "    .dataframe tbody tr th {\n",
              "        vertical-align: top;\n",
              "    }\n",
              "\n",
              "    .dataframe thead th {\n",
              "        text-align: right;\n",
              "    }\n",
              "</style>\n",
              "<table border=\"1\" class=\"dataframe\">\n",
              "  <thead>\n",
              "    <tr style=\"text-align: right;\">\n",
              "      <th></th>\n",
              "      <th>2020</th>\n",
              "      <th>2021</th>\n",
              "    </tr>\n",
              "  </thead>\n",
              "  <tbody>\n",
              "    <tr>\n",
              "      <th>Labo</th>\n",
              "      <td>4521</td>\n",
              "      <td>7542</td>\n",
              "    </tr>\n",
              "    <tr>\n",
              "      <th>Damas</th>\n",
              "      <td>30889</td>\n",
              "      <td>33682</td>\n",
              "    </tr>\n",
              "    <tr>\n",
              "      <th>Spark</th>\n",
              "      <td>16370</td>\n",
              "      <td>6485</td>\n",
              "    </tr>\n",
              "    <tr>\n",
              "      <th>Nexia</th>\n",
              "      <td>41663</td>\n",
              "      <td>14442</td>\n",
              "    </tr>\n",
              "    <tr>\n",
              "      <th>Cobalt</th>\n",
              "      <td>44901</td>\n",
              "      <td>36317</td>\n",
              "    </tr>\n",
              "    <tr>\n",
              "      <th>Gentra</th>\n",
              "      <td>30368</td>\n",
              "      <td>26266</td>\n",
              "    </tr>\n",
              "  </tbody>\n",
              "</table>\n",
              "</div>\n",
              "      <button class=\"colab-df-convert\" onclick=\"convertToInteractive('df-669ca159-8ca7-4307-bc4d-e0be0848d86b')\"\n",
              "              title=\"Convert this dataframe to an interactive table.\"\n",
              "              style=\"display:none;\">\n",
              "        \n",
              "  <svg xmlns=\"http://www.w3.org/2000/svg\" height=\"24px\"viewBox=\"0 0 24 24\"\n",
              "       width=\"24px\">\n",
              "    <path d=\"M0 0h24v24H0V0z\" fill=\"none\"/>\n",
              "    <path d=\"M18.56 5.44l.94 2.06.94-2.06 2.06-.94-2.06-.94-.94-2.06-.94 2.06-2.06.94zm-11 1L8.5 8.5l.94-2.06 2.06-.94-2.06-.94L8.5 2.5l-.94 2.06-2.06.94zm10 10l.94 2.06.94-2.06 2.06-.94-2.06-.94-.94-2.06-.94 2.06-2.06.94z\"/><path d=\"M17.41 7.96l-1.37-1.37c-.4-.4-.92-.59-1.43-.59-.52 0-1.04.2-1.43.59L10.3 9.45l-7.72 7.72c-.78.78-.78 2.05 0 2.83L4 21.41c.39.39.9.59 1.41.59.51 0 1.02-.2 1.41-.59l7.78-7.78 2.81-2.81c.8-.78.8-2.07 0-2.86zM5.41 20L4 18.59l7.72-7.72 1.47 1.35L5.41 20z\"/>\n",
              "  </svg>\n",
              "      </button>\n",
              "      \n",
              "  <style>\n",
              "    .colab-df-container {\n",
              "      display:flex;\n",
              "      flex-wrap:wrap;\n",
              "      gap: 12px;\n",
              "    }\n",
              "\n",
              "    .colab-df-convert {\n",
              "      background-color: #E8F0FE;\n",
              "      border: none;\n",
              "      border-radius: 50%;\n",
              "      cursor: pointer;\n",
              "      display: none;\n",
              "      fill: #1967D2;\n",
              "      height: 32px;\n",
              "      padding: 0 0 0 0;\n",
              "      width: 32px;\n",
              "    }\n",
              "\n",
              "    .colab-df-convert:hover {\n",
              "      background-color: #E2EBFA;\n",
              "      box-shadow: 0px 1px 2px rgba(60, 64, 67, 0.3), 0px 1px 3px 1px rgba(60, 64, 67, 0.15);\n",
              "      fill: #174EA6;\n",
              "    }\n",
              "\n",
              "    [theme=dark] .colab-df-convert {\n",
              "      background-color: #3B4455;\n",
              "      fill: #D2E3FC;\n",
              "    }\n",
              "\n",
              "    [theme=dark] .colab-df-convert:hover {\n",
              "      background-color: #434B5C;\n",
              "      box-shadow: 0px 1px 3px 1px rgba(0, 0, 0, 0.15);\n",
              "      filter: drop-shadow(0px 1px 2px rgba(0, 0, 0, 0.3));\n",
              "      fill: #FFFFFF;\n",
              "    }\n",
              "  </style>\n",
              "\n",
              "      <script>\n",
              "        const buttonEl =\n",
              "          document.querySelector('#df-669ca159-8ca7-4307-bc4d-e0be0848d86b button.colab-df-convert');\n",
              "        buttonEl.style.display =\n",
              "          google.colab.kernel.accessAllowed ? 'block' : 'none';\n",
              "\n",
              "        async function convertToInteractive(key) {\n",
              "          const element = document.querySelector('#df-669ca159-8ca7-4307-bc4d-e0be0848d86b');\n",
              "          const dataTable =\n",
              "            await google.colab.kernel.invokeFunction('convertToInteractive',\n",
              "                                                     [key], {});\n",
              "          if (!dataTable) return;\n",
              "\n",
              "          const docLinkHtml = 'Like what you see? Visit the ' +\n",
              "            '<a target=\"_blank\" href=https://colab.research.google.com/notebooks/data_table.ipynb>data table notebook</a>'\n",
              "            + ' to learn more about interactive tables.';\n",
              "          element.innerHTML = '';\n",
              "          dataTable['output_type'] = 'display_data';\n",
              "          await google.colab.output.renderOutput(dataTable, element);\n",
              "          const docLink = document.createElement('div');\n",
              "          docLink.innerHTML = docLinkHtml;\n",
              "          element.appendChild(docLink);\n",
              "        }\n",
              "      </script>\n",
              "    </div>\n",
              "  </div>\n",
              "  "
            ]
          },
          "metadata": {},
          "execution_count": 17
        }
      ]
    },
    {
      "cell_type": "code",
      "source": [
        "df2.idxmin()"
      ],
      "metadata": {
        "colab": {
          "base_uri": "https://localhost:8080/"
        },
        "id": "m54ZtnaLlAn-",
        "outputId": "a5b10c6c-502f-4d33-9c43-cfeec85aeb2b"
      },
      "execution_count": 18,
      "outputs": [
        {
          "output_type": "execute_result",
          "data": {
            "text/plain": [
              "2020     Labo\n",
              "2021    Spark\n",
              "dtype: object"
            ]
          },
          "metadata": {},
          "execution_count": 18
        }
      ]
    },
    {
      "cell_type": "code",
      "source": [
        "df2.idxmax()"
      ],
      "metadata": {
        "colab": {
          "base_uri": "https://localhost:8080/"
        },
        "id": "VTTCNnd3lEGB",
        "outputId": "df211458-a8cd-445e-fa39-2ea9feddc2db"
      },
      "execution_count": 19,
      "outputs": [
        {
          "output_type": "execute_result",
          "data": {
            "text/plain": [
              "2020    Cobalt\n",
              "2021    Cobalt\n",
              "dtype: object"
            ]
          },
          "metadata": {},
          "execution_count": 19
        }
      ]
    },
    {
      "cell_type": "code",
      "source": [
        "print(df['aholisi'].idxmax(), 'aholisi', df['aholisi'].max())"
      ],
      "metadata": {
        "colab": {
          "base_uri": "https://localhost:8080/"
        },
        "id": "wuyyXRlOlcOO",
        "outputId": "9edfe243-e738-4fd4-88b5-f3b90515fb3f"
      },
      "execution_count": 22,
      "outputs": [
        {
          "output_type": "stream",
          "name": "stdout",
          "text": [
            "Toshkent viloyati aholisi 4450000.0\n"
          ]
        }
      ]
    },
    {
      "cell_type": "code",
      "source": [
        "print(df['maydoni'].idxmax())\n",
        "print(df['maydoni'].max())"
      ],
      "metadata": {
        "colab": {
          "base_uri": "https://localhost:8080/"
        },
        "id": "jl5RfeFilHdb",
        "outputId": "43798e66-79ed-49ec-8a42-dcb4b7814fdb"
      },
      "execution_count": 20,
      "outputs": [
        {
          "output_type": "stream",
          "name": "stdout",
          "text": [
            "Qoraqalpogʻiston Respublikasi\n",
            "160000.0\n"
          ]
        }
      ]
    },
    {
      "cell_type": "markdown",
      "source": [
        "# Boshqa funksiyalar"
      ],
      "metadata": {
        "id": "a9DNanxul0vN"
      }
    },
    {
      "cell_type": "markdown",
      "source": [
        "count - NaN bo'lmagan qiymatlar soni\n",
        "\n",
        "median - qiymatlar medianini hisbolash\n",
        "\n",
        "mad - mean absolute deviation\n",
        "\n",
        "prod - barcha qiymatlar ko'paytmasi\n",
        "\n",
        "var - variance (dispersiya)\n",
        "\n",
        "std - standart deviation (standart chetlanis)\n",
        "\n",
        "skew - skewness\n",
        "\n",
        "kurt - kurtosis\n",
        "\n",
        "cumsum - cumulative sum\n",
        "\n",
        "cummin va cummax- cumulative min and max\n",
        "\n",
        "cumprod - cumulative product\n",
        "\n",
        "diff - arifmetik farq (difference)\n",
        "\n",
        "pct_change - percent changes\n",
        "\n"
      ],
      "metadata": {
        "id": "ty029-JTl4Nm"
      }
    }
  ]
}