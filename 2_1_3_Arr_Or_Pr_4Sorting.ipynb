{
  "nbformat": 4,
  "nbformat_minor": 0,
  "metadata": {
    "colab": {
      "name": "2.1.3.Arr_Or_Pr#4Sorting.ipynb",
      "provenance": [],
      "collapsed_sections": [],
      "authorship_tag": "ABX9TyPEA0U6TthlCYRe9ErPsN9x",
      "include_colab_link": true
    },
    "kernelspec": {
      "name": "python3",
      "display_name": "Python 3"
    },
    "language_info": {
      "name": "python"
    }
  },
  "cells": [
    {
      "cell_type": "markdown",
      "metadata": {
        "id": "view-in-github",
        "colab_type": "text"
      },
      "source": [
        "<a href=\"https://colab.research.google.com/github/ffayzullaev/Data_Science_MohirDev/blob/main/2_1_3_Arr_Or_Pr_4Sorting.ipynb\" target=\"_parent\"><img src=\"https://colab.research.google.com/assets/colab-badge.svg\" alt=\"Open In Colab\"/></a>"
      ]
    },
    {
      "cell_type": "markdown",
      "source": [
        "Ma'lumotlar tahlili."
      ],
      "metadata": {
        "id": "ycQ2rEHEHXmf"
      }
    },
    {
      "cell_type": "markdown",
      "source": [
        "2.1. NumPy kutubxonasi bilan ishlash"
      ],
      "metadata": {
        "id": "NIMq3J98HcaR"
      }
    },
    {
      "cell_type": "markdown",
      "source": [
        "NumPy kutubxonasini chaqirib olish"
      ],
      "metadata": {
        "id": "LC1XiTRSHeTz"
      }
    },
    {
      "cell_type": "code",
      "execution_count": 2,
      "metadata": {
        "id": "j-Fl1Jc5HWfn"
      },
      "outputs": [],
      "source": [
        "import numpy as np"
      ]
    },
    {
      "cell_type": "markdown",
      "source": [
        "2.1.3. Massivga yo'naltirilgan dasturlash"
      ],
      "metadata": {
        "id": "l2895ZDOHjQ0"
      }
    },
    {
      "cell_type": "markdown",
      "source": [
        "Tartiblash (**Sorting**)"
      ],
      "metadata": {
        "id": "wv37ZpLtHle1"
      }
    },
    {
      "cell_type": "code",
      "source": [
        "#data\n",
        "arr=np.random.rand(4) #4ra taxminiy elementlardan tashkil topgan massiv\n",
        "arr"
      ],
      "metadata": {
        "colab": {
          "base_uri": "https://localhost:8080/"
        },
        "id": "T5oLPaoWHn_y",
        "outputId": "fb362007-47b0-4e9e-9483-5dc2c8548c45"
      },
      "execution_count": 3,
      "outputs": [
        {
          "output_type": "execute_result",
          "data": {
            "text/plain": [
              "array([0.46408743, 0.67647678, 0.45019722, 0.46258638])"
            ]
          },
          "metadata": {},
          "execution_count": 3
        }
      ]
    },
    {
      "cell_type": "markdown",
      "source": [
        "**sort** funkiyasi"
      ],
      "metadata": {
        "id": "8g7CWjI4Hq4i"
      }
    },
    {
      "cell_type": "code",
      "source": [
        "#1 usul \n",
        "sorted_arr=np.sort(arr) #arr massivni tartiblangan ko'rinishini sorted_arr  oylaydi\n",
        "sorted_arr"
      ],
      "metadata": {
        "colab": {
          "base_uri": "https://localhost:8080/"
        },
        "id": "sYXD48EoIHtu",
        "outputId": "ddc13b66-8b3d-451d-c5cf-0d0824e994b2"
      },
      "execution_count": 5,
      "outputs": [
        {
          "output_type": "execute_result",
          "data": {
            "text/plain": [
              "array([0.45019722, 0.46258638, 0.46408743, 0.67647678])"
            ]
          },
          "metadata": {},
          "execution_count": 5
        }
      ]
    },
    {
      "cell_type": "code",
      "source": [
        "#2 usul\n",
        "arr.sort() #arr ning tartiblangan ko'rinishi\n",
        "arr"
      ],
      "metadata": {
        "colab": {
          "base_uri": "https://localhost:8080/"
        },
        "id": "47dyltW8IdvQ",
        "outputId": "214455ff-a635-47a0-e55e-b7991a5e8877"
      },
      "execution_count": 6,
      "outputs": [
        {
          "output_type": "execute_result",
          "data": {
            "text/plain": [
              "array([0.45019722, 0.46258638, 0.46408743, 0.67647678])"
            ]
          },
          "metadata": {},
          "execution_count": 6
        }
      ]
    },
    {
      "cell_type": "code",
      "source": [
        "#teskari tartiblash \n",
        "rev_arr= -np.sort(-arr) #teskari tartibdagi arr\n",
        "rev_arr"
      ],
      "metadata": {
        "colab": {
          "base_uri": "https://localhost:8080/"
        },
        "id": "8FfI5vdDI8cv",
        "outputId": "bc7d7ec3-3981-43bb-919a-13127c972a48"
      },
      "execution_count": 7,
      "outputs": [
        {
          "output_type": "execute_result",
          "data": {
            "text/plain": [
              "array([0.67647678, 0.46408743, 0.46258638, 0.45019722])"
            ]
          },
          "metadata": {},
          "execution_count": 7
        }
      ]
    },
    {
      "cell_type": "code",
      "source": [
        "# 2D array (massiv)\n",
        "arr2d = np.random.rand(2,4) # (2,4) random massiv\n",
        "arr2d"
      ],
      "metadata": {
        "colab": {
          "base_uri": "https://localhost:8080/"
        },
        "id": "2hmCuTRgJPGX",
        "outputId": "faaa2936-f73f-4147-c13d-1171ed4cbb79"
      },
      "execution_count": 10,
      "outputs": [
        {
          "output_type": "execute_result",
          "data": {
            "text/plain": [
              "array([[0.84340334, 0.34612148, 0.94577545, 0.4221725 ],\n",
              "       [0.06995539, 0.62245334, 0.79055778, 0.42271641]])"
            ]
          },
          "metadata": {},
          "execution_count": 10
        }
      ]
    },
    {
      "cell_type": "code",
      "source": [
        "# axis = 0--> Qator\n",
        "row_srt=np.sort(arr2d, axis=0) #arr2d ning xar bir qator bo'yicha tartiblangan ko'rinishi\n",
        "row_srt"
      ],
      "metadata": {
        "colab": {
          "base_uri": "https://localhost:8080/"
        },
        "id": "hXSIRvozJdLO",
        "outputId": "46d3b7cd-53aa-439c-d01f-8287d172b647"
      },
      "execution_count": 11,
      "outputs": [
        {
          "output_type": "execute_result",
          "data": {
            "text/plain": [
              "array([[0.06995539, 0.34612148, 0.79055778, 0.4221725 ],\n",
              "       [0.84340334, 0.62245334, 0.94577545, 0.42271641]])"
            ]
          },
          "metadata": {},
          "execution_count": 11
        }
      ]
    },
    {
      "cell_type": "code",
      "source": [
        "# axis = 1--> Ustun\n",
        "col_srt=np.sort(arr2d, axis=1) # arr2d ning xar bir ustun bo'yicha tartiblangan ko'rinishi\n",
        "col_srt"
      ],
      "metadata": {
        "colab": {
          "base_uri": "https://localhost:8080/"
        },
        "id": "LK0FMlAbJ53L",
        "outputId": "c38b82d6-c5bf-42d0-f7d7-15e0081b4106"
      },
      "execution_count": 12,
      "outputs": [
        {
          "output_type": "execute_result",
          "data": {
            "text/plain": [
              "array([[0.34612148, 0.4221725 , 0.84340334, 0.94577545],\n",
              "       [0.06995539, 0.42271641, 0.62245334, 0.79055778]])"
            ]
          },
          "metadata": {},
          "execution_count": 12
        }
      ]
    }
  ]
}