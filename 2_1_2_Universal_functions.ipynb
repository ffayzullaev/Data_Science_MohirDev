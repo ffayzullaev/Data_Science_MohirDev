{
  "nbformat": 4,
  "nbformat_minor": 0,
  "metadata": {
    "colab": {
      "name": "2.1.2_Universal_functions.ipynb",
      "provenance": [],
      "collapsed_sections": [],
      "authorship_tag": "ABX9TyOhRfMi8SzmqYB7cVFtdbVS",
      "include_colab_link": true
    },
    "kernelspec": {
      "name": "python3",
      "display_name": "Python 3"
    },
    "language_info": {
      "name": "python"
    }
  },
  "cells": [
    {
      "cell_type": "markdown",
      "metadata": {
        "id": "view-in-github",
        "colab_type": "text"
      },
      "source": [
        "<a href=\"https://colab.research.google.com/github/ffayzullaev/Data_Science_MohirDev/blob/main/2_1_2_Universal_functions.ipynb\" target=\"_parent\"><img src=\"https://colab.research.google.com/assets/colab-badge.svg\" alt=\"Open In Colab\"/></a>"
      ]
    },
    {
      "cell_type": "markdown",
      "source": [
        "Ma'lumotlar tahlili.\n",
        "2.1. NumPy kutubxonasi bilan ishlash\n",
        "\n",
        "NumPy kutubxonasini chaqirib olish"
      ],
      "metadata": {
        "id": "qGbPKj35_nQp"
      }
    },
    {
      "cell_type": "code",
      "execution_count": 1,
      "metadata": {
        "id": "2_ocNd2b_kVt"
      },
      "outputs": [],
      "source": [
        "import numpy as np"
      ]
    },
    {
      "cell_type": "markdown",
      "source": [
        "2.1.2. Universal funksiyalar\n",
        "Unary funksiyalar (bitta argument qabul qiluvchi funkisya)\n",
        "\n",
        "\n",
        "\n"
      ],
      "metadata": {
        "id": "5KF_nsnU_v3D"
      }
    },
    {
      "cell_type": "markdown",
      "source": [
        "**sqrt**, **square**, **exp**, **log**, **modf**, **sign**, **isnan** funksiyalarini ko'rib chiqamiz"
      ],
      "metadata": {
        "id": "-Q5mYdCcAQmk"
      }
    },
    {
      "cell_type": "code",
      "source": [
        "arr = np.arange(10) #0dan 10 gacha bo'lgan elementlardan iborat massivlarni qaytaradi\n",
        "arr"
      ],
      "metadata": {
        "colab": {
          "base_uri": "https://localhost:8080/"
        },
        "id": "M1ZubZuN_3mU",
        "outputId": "392ef211-22e8-47a8-e076-3f0b6b7e23cd"
      },
      "execution_count": 3,
      "outputs": [
        {
          "output_type": "execute_result",
          "data": {
            "text/plain": [
              "array([0, 1, 2, 3, 4, 5, 6, 7, 8, 9])"
            ]
          },
          "metadata": {},
          "execution_count": 3
        }
      ]
    },
    {
      "cell_type": "markdown",
      "source": [
        "**sqrt** massivning xar bir elementini kvadrat ildizini qaytaradi"
      ],
      "metadata": {
        "id": "yIojbproAu8J"
      }
    },
    {
      "cell_type": "code",
      "source": [
        "np.sqrt(arr) # arr nomli massivning barcha elementlaridan kvadrat ildiz qaytaradi"
      ],
      "metadata": {
        "colab": {
          "base_uri": "https://localhost:8080/"
        },
        "id": "S6qluv97AprL",
        "outputId": "5002b42f-c5a5-4be9-d45e-f8453ea36da2"
      },
      "execution_count": 4,
      "outputs": [
        {
          "output_type": "execute_result",
          "data": {
            "text/plain": [
              "array([0.        , 1.        , 1.41421356, 1.73205081, 2.        ,\n",
              "       2.23606798, 2.44948974, 2.64575131, 2.82842712, 3.        ])"
            ]
          },
          "metadata": {},
          "execution_count": 4
        }
      ]
    },
    {
      "cell_type": "markdown",
      "source": [
        "**square** massivning xar bir elementini kvadratga oshiradi"
      ],
      "metadata": {
        "id": "GTYd5r0uBL5g"
      }
    },
    {
      "cell_type": "code",
      "source": [
        "np.square(arr) #arr nomli massivning barcha elementlarini kvadratga oshiradi"
      ],
      "metadata": {
        "colab": {
          "base_uri": "https://localhost:8080/"
        },
        "id": "LcMjgzULBDIX",
        "outputId": "16d15efd-25e8-4291-f560-78e7117aad4f"
      },
      "execution_count": 5,
      "outputs": [
        {
          "output_type": "execute_result",
          "data": {
            "text/plain": [
              "array([ 0,  1,  4,  9, 16, 25, 36, 49, 64, 81])"
            ]
          },
          "metadata": {},
          "execution_count": 5
        }
      ]
    },
    {
      "cell_type": "markdown",
      "source": [
        "**exp** massivning xar bir elementini kvadratga oshiradi "
      ],
      "metadata": {
        "id": "Gtb-YoB2Be_m"
      }
    },
    {
      "cell_type": "code",
      "source": [
        "arr"
      ],
      "metadata": {
        "colab": {
          "base_uri": "https://localhost:8080/"
        },
        "id": "LpYCLS6BBcse",
        "outputId": "72c12f52-7133-4533-884d-ff2623bc35c0"
      },
      "execution_count": 6,
      "outputs": [
        {
          "output_type": "execute_result",
          "data": {
            "text/plain": [
              "array([0, 1, 2, 3, 4, 5, 6, 7, 8, 9])"
            ]
          },
          "metadata": {},
          "execution_count": 6
        }
      ]
    },
    {
      "cell_type": "code",
      "source": [
        "np.exp(arr) #arr nomli massivning barcha elementlarini eksponentini qaytaradi "
      ],
      "metadata": {
        "colab": {
          "base_uri": "https://localhost:8080/"
        },
        "id": "0NAZK9lPBzFR",
        "outputId": "88e32a49-91c9-4c52-9f4e-f5c68660b87e"
      },
      "execution_count": 7,
      "outputs": [
        {
          "output_type": "execute_result",
          "data": {
            "text/plain": [
              "array([1.00000000e+00, 2.71828183e+00, 7.38905610e+00, 2.00855369e+01,\n",
              "       5.45981500e+01, 1.48413159e+02, 4.03428793e+02, 1.09663316e+03,\n",
              "       2.98095799e+03, 8.10308393e+03])"
            ]
          },
          "metadata": {},
          "execution_count": 7
        }
      ]
    },
    {
      "cell_type": "markdown",
      "source": [
        "**log**  massivning xar bir logorifimini hosoblaydi\n"
      ],
      "metadata": {
        "id": "LxU0r1h9CBR6"
      }
    },
    {
      "cell_type": "code",
      "source": [
        "np.log(arr[1:]) # arr nomli massivning 0-elementdan tashqari barcha logarifimini hisoblaydi(loge)"
      ],
      "metadata": {
        "colab": {
          "base_uri": "https://localhost:8080/"
        },
        "id": "C8cuPiO2CAR9",
        "outputId": "8fb7a7db-01f8-46db-abc4-03b925ba11a9"
      },
      "execution_count": 8,
      "outputs": [
        {
          "output_type": "execute_result",
          "data": {
            "text/plain": [
              "array([0.        , 0.69314718, 1.09861229, 1.38629436, 1.60943791,\n",
              "       1.79175947, 1.94591015, 2.07944154, 2.19722458])"
            ]
          },
          "metadata": {},
          "execution_count": 8
        }
      ]
    },
    {
      "cell_type": "markdown",
      "source": [
        "**modf**  bu funksiya sonlarni butun va qoldiq qismlarini ajratib beruvchi funksiya"
      ],
      "metadata": {
        "id": "PQ8GRm8iCaPY"
      }
    },
    {
      "cell_type": "code",
      "source": [
        "arr1=np.random.randn(6) # 6ta elementdan iborat taxminiy qiymatlarga ega massiv\n",
        "arr1"
      ],
      "metadata": {
        "colab": {
          "base_uri": "https://localhost:8080/"
        },
        "id": "J9_IjJgOCY1R",
        "outputId": "1f7d0022-0733-4c6d-9910-19bc08a8c1b9"
      },
      "execution_count": 9,
      "outputs": [
        {
          "output_type": "execute_result",
          "data": {
            "text/plain": [
              "array([ 0.761589  , -0.24619636,  0.76593602, -0.5784955 , -0.13752442,\n",
              "       -2.31263144])"
            ]
          },
          "metadata": {},
          "execution_count": 9
        }
      ]
    },
    {
      "cell_type": "code",
      "source": [
        "qoldiq, butun = np.modf(arr1) # arr1 ning elementlarini qoldiq va butun qismlarini ikkita massivga ajratib beradi"
      ],
      "metadata": {
        "id": "OCM5H4yUC5gC"
      },
      "execution_count": 12,
      "outputs": []
    },
    {
      "cell_type": "code",
      "source": [
        "print(qoldiq)\n",
        "print(butun)"
      ],
      "metadata": {
        "colab": {
          "base_uri": "https://localhost:8080/"
        },
        "id": "5gQ9FPE4DKHJ",
        "outputId": "a6449f7c-6ed6-4caf-c47a-c64b715575a2"
      },
      "execution_count": 11,
      "outputs": [
        {
          "output_type": "stream",
          "name": "stdout",
          "text": [
            "[ 0.761589   -0.24619636  0.76593602 -0.5784955  -0.13752442 -0.31263144]\n",
            "[ 0. -0.  0. -0. -0. -2.]\n"
          ]
        }
      ]
    },
    {
      "cell_type": "markdown",
      "source": [
        "**sign** funksiyasi massiv elementlarini qiymat manfiy bo'lsa **-1** va aksincha musbat bo'lsa **1** ni qaytaradi"
      ],
      "metadata": {
        "id": "yais_HwHDXc1"
      }
    },
    {
      "cell_type": "code",
      "source": [
        "np.sign(arr1) #arr1 massivning elementlari ishoralarini \"-1\" va \"1\" ko'rinishida qaytaradi"
      ],
      "metadata": {
        "colab": {
          "base_uri": "https://localhost:8080/"
        },
        "id": "ruyPgvvFDNmy",
        "outputId": "9bd2be65-9ddc-4f42-f7ce-8bbf8d082892"
      },
      "execution_count": 13,
      "outputs": [
        {
          "output_type": "execute_result",
          "data": {
            "text/plain": [
              "array([ 1., -1.,  1., -1., -1., -1.])"
            ]
          },
          "metadata": {},
          "execution_count": 13
        }
      ]
    },
    {
      "cell_type": "markdown",
      "source": [
        "**isnan** massivning elementlarida NaN ma'lumoti bo'lsa **True** qaytaradi va aksincha esa False qaytaradi"
      ],
      "metadata": {
        "id": "Ul29gDKjDU-N"
      }
    },
    {
      "cell_type": "code",
      "source": [
        "np.isnan(arr1)"
      ],
      "metadata": {
        "colab": {
          "base_uri": "https://localhost:8080/"
        },
        "id": "YKq20_58EH9q",
        "outputId": "fc571710-0fc3-4bb8-adbd-cdbf718fc579"
      },
      "execution_count": 14,
      "outputs": [
        {
          "output_type": "execute_result",
          "data": {
            "text/plain": [
              "array([False, False, False, False, False, False])"
            ]
          },
          "metadata": {},
          "execution_count": 14
        }
      ]
    },
    {
      "cell_type": "code",
      "source": [
        "arr1[0]=np.NaN# 0-elementimizni nan ga almashtirdik"
      ],
      "metadata": {
        "id": "WoTmdb-BEKoH"
      },
      "execution_count": 15,
      "outputs": []
    },
    {
      "cell_type": "code",
      "source": [
        "arr1"
      ],
      "metadata": {
        "colab": {
          "base_uri": "https://localhost:8080/"
        },
        "id": "xhgu1-sKEWTE",
        "outputId": "0e60362c-b931-4b9d-b280-00d22db17c3e"
      },
      "execution_count": 17,
      "outputs": [
        {
          "output_type": "execute_result",
          "data": {
            "text/plain": [
              "array([        nan, -0.24619636,  0.76593602, -0.5784955 , -0.13752442,\n",
              "       -2.31263144])"
            ]
          },
          "metadata": {},
          "execution_count": 17
        }
      ]
    },
    {
      "cell_type": "code",
      "source": [
        "np.isnan(arr1)"
      ],
      "metadata": {
        "colab": {
          "base_uri": "https://localhost:8080/"
        },
        "id": "VKnM0IJzEXhu",
        "outputId": "78cdf5d3-91d5-48c8-9130-32343856cd36"
      },
      "execution_count": 18,
      "outputs": [
        {
          "output_type": "execute_result",
          "data": {
            "text/plain": [
              "array([ True, False, False, False, False, False])"
            ]
          },
          "metadata": {},
          "execution_count": 18
        }
      ]
    },
    {
      "cell_type": "markdown",
      "source": [
        "Binary funksiyalar (ikkita argument qabul qiluvchi funkisya)"
      ],
      "metadata": {
        "id": "W5eK6yt3Em-K"
      }
    },
    {
      "cell_type": "markdown",
      "source": [
        "**add**, **multiply**, **maximum** funksiyalarini ko'rib chiqamiz"
      ],
      "metadata": {
        "id": "NfyLfan-EpL6"
      }
    },
    {
      "cell_type": "markdown",
      "source": [
        "**add** ikkita massivning mos elementlarini qo'shadi"
      ],
      "metadata": {
        "id": "WrotQtw7EtsD"
      }
    },
    {
      "cell_type": "code",
      "source": [
        "# 2 ta massivni yaratib olamiz\n",
        "arr2=np.random.randn(6)\n",
        "arr3=np.random.randn(6)"
      ],
      "metadata": {
        "id": "v4j3b1gtE1Nn"
      },
      "execution_count": 19,
      "outputs": []
    },
    {
      "cell_type": "code",
      "source": [
        "arr2"
      ],
      "metadata": {
        "colab": {
          "base_uri": "https://localhost:8080/"
        },
        "id": "iLj7hxgMFEfr",
        "outputId": "a9555932-048b-48fc-d08a-837378a5222e"
      },
      "execution_count": 20,
      "outputs": [
        {
          "output_type": "execute_result",
          "data": {
            "text/plain": [
              "array([ 0.17749037, -0.30664122,  0.72732459,  2.0419163 , -1.95223688,\n",
              "       -0.92317093])"
            ]
          },
          "metadata": {},
          "execution_count": 20
        }
      ]
    },
    {
      "cell_type": "code",
      "source": [
        "arr3"
      ],
      "metadata": {
        "colab": {
          "base_uri": "https://localhost:8080/"
        },
        "id": "S9ZhnT5bFFP-",
        "outputId": "c01d2eeb-3151-40a1-dbe2-e19b2407903f"
      },
      "execution_count": 21,
      "outputs": [
        {
          "output_type": "execute_result",
          "data": {
            "text/plain": [
              "array([-0.0685785 ,  1.79721445, -1.44773006, -0.82073742, -0.41380711,\n",
              "       -0.33716331])"
            ]
          },
          "metadata": {},
          "execution_count": 21
        }
      ]
    },
    {
      "cell_type": "code",
      "source": [
        "np.add(arr2, arr3) # arr2 va arr3 ning elementlarini mos ravishda qo'shib beradi "
      ],
      "metadata": {
        "colab": {
          "base_uri": "https://localhost:8080/"
        },
        "id": "feBOsT91FF6h",
        "outputId": "f0b1bced-5189-4f06-f839-0f90f03a2d0c"
      },
      "execution_count": 22,
      "outputs": [
        {
          "output_type": "execute_result",
          "data": {
            "text/plain": [
              "array([ 0.10891187,  1.49057323, -0.72040547,  1.22117888, -2.36604399,\n",
              "       -1.26033424])"
            ]
          },
          "metadata": {},
          "execution_count": 22
        }
      ]
    },
    {
      "cell_type": "markdown",
      "source": [
        "**multiply** ikkita massivning mos elementlarini ko'paytiradi"
      ],
      "metadata": {
        "id": "zDy6IT8gFXz2"
      }
    },
    {
      "cell_type": "code",
      "source": [
        "arr2"
      ],
      "metadata": {
        "colab": {
          "base_uri": "https://localhost:8080/"
        },
        "id": "ho2MKIMvFQHV",
        "outputId": "847402bf-650e-473b-8473-aa054686af18"
      },
      "execution_count": 23,
      "outputs": [
        {
          "output_type": "execute_result",
          "data": {
            "text/plain": [
              "array([ 0.17749037, -0.30664122,  0.72732459,  2.0419163 , -1.95223688,\n",
              "       -0.92317093])"
            ]
          },
          "metadata": {},
          "execution_count": 23
        }
      ]
    },
    {
      "cell_type": "code",
      "source": [
        "arr3"
      ],
      "metadata": {
        "colab": {
          "base_uri": "https://localhost:8080/"
        },
        "id": "Z66akiB6FfVe",
        "outputId": "6691b0ac-78b0-4b2a-86f6-f8a89800cd44"
      },
      "execution_count": 24,
      "outputs": [
        {
          "output_type": "execute_result",
          "data": {
            "text/plain": [
              "array([-0.0685785 ,  1.79721445, -1.44773006, -0.82073742, -0.41380711,\n",
              "       -0.33716331])"
            ]
          },
          "metadata": {},
          "execution_count": 24
        }
      ]
    },
    {
      "cell_type": "code",
      "source": [
        "np.multiply(arr2,arr3) #arr2 va arr3 ning mos elementlarini ko'paytirib beradi"
      ],
      "metadata": {
        "colab": {
          "base_uri": "https://localhost:8080/"
        },
        "id": "cM64l2iKFf5R",
        "outputId": "49d334d8-d606-4bc0-bc10-55d6ff3e2ec6"
      },
      "execution_count": 25,
      "outputs": [
        {
          "output_type": "execute_result",
          "data": {
            "text/plain": [
              "array([-0.01217202, -0.55110004, -1.05296966, -1.67587711,  0.80784951,\n",
              "        0.31125936])"
            ]
          },
          "metadata": {},
          "execution_count": 25
        }
      ]
    },
    {
      "cell_type": "markdown",
      "source": [
        "**maximum** ikkita massivning elementlarini taqqoslab ulardan kattasining qiymatini qaytaradi"
      ],
      "metadata": {
        "id": "IwqbKz5YFspu"
      }
    },
    {
      "cell_type": "code",
      "source": [
        "np.maximum(arr2, arr3)"
      ],
      "metadata": {
        "colab": {
          "base_uri": "https://localhost:8080/"
        },
        "id": "AP71CPc6FpGx",
        "outputId": "ac2df0f0-0ba1-46bd-8daf-6924df73bb89"
      },
      "execution_count": 26,
      "outputs": [
        {
          "output_type": "execute_result",
          "data": {
            "text/plain": [
              "array([ 0.17749037,  1.79721445,  0.72732459,  2.0419163 , -0.41380711,\n",
              "       -0.33716331])"
            ]
          },
          "metadata": {},
          "execution_count": 26
        }
      ]
    }
  ]
}