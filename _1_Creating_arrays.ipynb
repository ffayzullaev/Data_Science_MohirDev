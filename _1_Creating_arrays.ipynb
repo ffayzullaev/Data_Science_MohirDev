{
  "nbformat": 4,
  "nbformat_minor": 0,
  "metadata": {
    "colab": {
      "name": "#1_Creating_arrays.ipynb",
      "provenance": [],
      "collapsed_sections": [],
      "toc_visible": true,
      "authorship_tag": "ABX9TyMSnsiB9196TFFS58GxVZSX",
      "include_colab_link": true
    },
    "kernelspec": {
      "name": "python3",
      "display_name": "Python 3"
    },
    "language_info": {
      "name": "python"
    }
  },
  "cells": [
    {
      "cell_type": "markdown",
      "metadata": {
        "id": "view-in-github",
        "colab_type": "text"
      },
      "source": [
        "<a href=\"https://colab.research.google.com/github/ffayzullaev/Data_Science_MohirDev/blob/main/_1_Creating_arrays.ipynb\" target=\"_parent\"><img src=\"https://colab.research.google.com/assets/colab-badge.svg\" alt=\"Open In Colab\"/></a>"
      ]
    },
    {
      "cell_type": "markdown",
      "source": [
        "NumPy kutubxonasini chaqirib olish"
      ],
      "metadata": {
        "id": "H7lQb-bJ-vnj"
      }
    },
    {
      "cell_type": "code",
      "execution_count": null,
      "metadata": {
        "id": "3_ol1CZhoycl"
      },
      "outputs": [],
      "source": [
        "import numpy as np"
      ]
    },
    {
      "cell_type": "markdown",
      "source": [
        "N-o'lchamli massiv (array)larga ishlov berish"
      ],
      "metadata": {
        "id": "4_CThmR8-3eL"
      }
    },
    {
      "cell_type": "markdown",
      "source": [
        "Numpyda massiv yaratishning eng oson yo'llaridan biri bu **array** funksiyasi yordamida amalga oshiriladi. Va ushbu funksiya har qanday turdagi ketma-ket ma'lumotlarni qabul qilib, uni yangi Numpy arrayiga o'girib beradi."
      ],
      "metadata": {
        "id": "-Sp3WBKf_Dvn"
      }
    },
    {
      "cell_type": "code",
      "source": [
        "data1 = [3.5, 5, 8, -8, 78]#list\n",
        "arr1 = np.array(data1) # array1"
      ],
      "metadata": {
        "id": "ChkycJrPuA_s"
      },
      "execution_count": null,
      "outputs": []
    },
    {
      "cell_type": "code",
      "source": [
        "arr1"
      ],
      "metadata": {
        "colab": {
          "base_uri": "https://localhost:8080/"
        },
        "id": "u8G8X0Jit49D",
        "outputId": "c9c0077e-3b4d-4e48-efd4-3ae524b39f65"
      },
      "execution_count": null,
      "outputs": [
        {
          "output_type": "execute_result",
          "data": {
            "text/plain": [
              "array([ 3.5,  5. ,  8. , -8. , 78. ])"
            ]
          },
          "metadata": {},
          "execution_count": 4
        }
      ]
    },
    {
      "cell_type": "code",
      "source": [
        "data2 = (4, 5 , -89.5, 78, 54) #tuple\n",
        "arr2 = np.array(data2)"
      ],
      "metadata": {
        "id": "7q96Pz60uSEX"
      },
      "execution_count": null,
      "outputs": []
    },
    {
      "cell_type": "code",
      "source": [
        "arr2"
      ],
      "metadata": {
        "colab": {
          "base_uri": "https://localhost:8080/"
        },
        "id": "JOn-SFrhudVQ",
        "outputId": "103afe88-ba78-4395-9a92-bc300541fdc8"
      },
      "execution_count": null,
      "outputs": [
        {
          "output_type": "execute_result",
          "data": {
            "text/plain": [
              "array([  4. ,   5. , -89.5,  78. ,  54. ])"
            ]
          },
          "metadata": {},
          "execution_count": 6
        }
      ]
    },
    {
      "cell_type": "markdown",
      "source": [
        "Massiv o'lchami"
      ],
      "metadata": {
        "id": "5fZ3tOQ-AQ1_"
      }
    },
    {
      "cell_type": "code",
      "source": [
        "arr1.ndim #array1 ning o'chami"
      ],
      "metadata": {
        "colab": {
          "base_uri": "https://localhost:8080/"
        },
        "id": "a-T38Rx8ufCV",
        "outputId": "dce38549-9761-46df-d755-1e3604ec98ff"
      },
      "execution_count": null,
      "outputs": [
        {
          "output_type": "execute_result",
          "data": {
            "text/plain": [
              "1"
            ]
          },
          "metadata": {},
          "execution_count": 7
        }
      ]
    },
    {
      "cell_type": "code",
      "source": [
        "arr2.ndim # array2 ning o'chami"
      ],
      "metadata": {
        "colab": {
          "base_uri": "https://localhost:8080/"
        },
        "id": "TtiP2tz1ur4s",
        "outputId": "b0bb74ad-f0b7-4c89-b6c3-ef7b97656bf9"
      },
      "execution_count": null,
      "outputs": [
        {
          "output_type": "execute_result",
          "data": {
            "text/plain": [
              "1"
            ]
          },
          "metadata": {},
          "execution_count": 8
        }
      ]
    },
    {
      "cell_type": "markdown",
      "source": [
        "Ikki va undan katta o'lchamli massivlar"
      ],
      "metadata": {
        "id": "2jJUv7mLAzER"
      }
    },
    {
      "cell_type": "code",
      "source": [
        "data3 = [[1, 2, 3, 4], [5, 6, 7, 8]] #list ichidagi list (nested list)\n",
        "arr3 = np.array(data3) #array3"
      ],
      "metadata": {
        "id": "d9FIzuEjuxPi"
      },
      "execution_count": null,
      "outputs": []
    },
    {
      "cell_type": "code",
      "source": [
        "data3"
      ],
      "metadata": {
        "colab": {
          "base_uri": "https://localhost:8080/"
        },
        "id": "0VKK-_DHvaxS",
        "outputId": "a5482464-fae8-4c75-83f4-869c26bd923c"
      },
      "execution_count": null,
      "outputs": [
        {
          "output_type": "execute_result",
          "data": {
            "text/plain": [
              "[[1, 2, 3, 4], [5, 6, 7, 8]]"
            ]
          },
          "metadata": {},
          "execution_count": 10
        }
      ]
    },
    {
      "cell_type": "code",
      "source": [
        "arr3"
      ],
      "metadata": {
        "colab": {
          "base_uri": "https://localhost:8080/"
        },
        "id": "Wnb-WwP7vcVg",
        "outputId": "93f7acc3-c71b-49d3-c226-e7013344bf13"
      },
      "execution_count": null,
      "outputs": [
        {
          "output_type": "execute_result",
          "data": {
            "text/plain": [
              "array([[1, 2, 3, 4],\n",
              "       [5, 6, 7, 8]])"
            ]
          },
          "metadata": {},
          "execution_count": 11
        }
      ]
    },
    {
      "cell_type": "code",
      "source": [
        "arr3.ndim"
      ],
      "metadata": {
        "colab": {
          "base_uri": "https://localhost:8080/"
        },
        "id": "BU9sj85MveQE",
        "outputId": "b368ebda-b6c7-4a04-86e1-98c26996c805"
      },
      "execution_count": null,
      "outputs": [
        {
          "output_type": "execute_result",
          "data": {
            "text/plain": [
              "2"
            ]
          },
          "metadata": {},
          "execution_count": 12
        }
      ]
    },
    {
      "cell_type": "code",
      "source": [
        "data4 = [[1, 2, 3, 4, 5], [6, 7, 8, 9, 10], [11, 12, 13, 14, 15]] #list ichidagi list\n",
        "arr4 = np.array(data4) #array4"
      ],
      "metadata": {
        "id": "MLKIHEsQvhT5"
      },
      "execution_count": null,
      "outputs": []
    },
    {
      "cell_type": "code",
      "source": [
        "data4"
      ],
      "metadata": {
        "colab": {
          "base_uri": "https://localhost:8080/"
        },
        "id": "9QnsWrwCwtwy",
        "outputId": "d68b378f-15f7-47da-c964-84b5ddd37c8f"
      },
      "execution_count": null,
      "outputs": [
        {
          "output_type": "execute_result",
          "data": {
            "text/plain": [
              "[[1, 2, 3, 4, 5], [6, 7, 8, 9, 10], [11, 12, 13, 14, 15]]"
            ]
          },
          "metadata": {},
          "execution_count": 20
        }
      ]
    },
    {
      "cell_type": "code",
      "source": [
        "arr4"
      ],
      "metadata": {
        "colab": {
          "base_uri": "https://localhost:8080/"
        },
        "id": "6TkLRI0Fwuv0",
        "outputId": "10910ff8-845c-414d-b075-e53d350369e9"
      },
      "execution_count": null,
      "outputs": [
        {
          "output_type": "execute_result",
          "data": {
            "text/plain": [
              "array([[ 1,  2,  3,  4,  5],\n",
              "       [ 6,  7,  8,  9, 10],\n",
              "       [11, 12, 13, 14, 15]])"
            ]
          },
          "metadata": {},
          "execution_count": 21
        }
      ]
    },
    {
      "cell_type": "code",
      "source": [
        "arr4.ndim"
      ],
      "metadata": {
        "colab": {
          "base_uri": "https://localhost:8080/"
        },
        "id": "ZY3rQC-Qwzty",
        "outputId": "87f0b54d-596e-42bd-f395-57c3ed1634e7"
      },
      "execution_count": null,
      "outputs": [
        {
          "output_type": "execute_result",
          "data": {
            "text/plain": [
              "2"
            ]
          },
          "metadata": {},
          "execution_count": 22
        }
      ]
    },
    {
      "cell_type": "markdown",
      "source": [
        "# Darsimizni ikinchi qismi...\n",
        "\n",
        "**shape**, **size** metodlari"
      ],
      "metadata": {
        "id": "UNT3N9g0xKCr"
      }
    },
    {
      "cell_type": "markdown",
      "source": [
        "**shape** metodi massivning qator va ustunlar sonini ko'rsatsa, **size** esa massivning elementlar sonini nomoyon etadi"
      ],
      "metadata": {
        "id": "-Cl7d4OYBVZY"
      }
    },
    {
      "cell_type": "code",
      "source": [
        "arr3.shape # qator va ustunlar sonini ko'rsatadi (q,u)"
      ],
      "metadata": {
        "colab": {
          "base_uri": "https://localhost:8080/"
        },
        "id": "Y7Lo1g_JxTwK",
        "outputId": "4f2703bd-5058-459a-e8f7-24c940ecc637"
      },
      "execution_count": null,
      "outputs": [
        {
          "output_type": "execute_result",
          "data": {
            "text/plain": [
              "(2, 4)"
            ]
          },
          "metadata": {},
          "execution_count": 24
        }
      ]
    },
    {
      "cell_type": "code",
      "source": [
        "arr3.size #array3 ning elementlar soni"
      ],
      "metadata": {
        "colab": {
          "base_uri": "https://localhost:8080/"
        },
        "id": "bjW5JidgxYwS",
        "outputId": "9678e3b6-0d6f-4bd7-f403-11a754acc939"
      },
      "execution_count": null,
      "outputs": [
        {
          "output_type": "execute_result",
          "data": {
            "text/plain": [
              "8"
            ]
          },
          "metadata": {},
          "execution_count": 26
        }
      ]
    },
    {
      "cell_type": "markdown",
      "source": [
        "# N-o'chamli massivlar yaratishning boshqa usullari\n",
        "\n",
        "**zeros** va **ones** funlsiyalari yordamida massivlar yaratish"
      ],
      "metadata": {
        "id": "3pGORshgyFWZ"
      }
    },
    {
      "cell_type": "code",
      "source": [
        "arr4 = np.zeros((2, 4)) # barcha elementlari 0 ga teng (2,4)\n",
        "arr4\n"
      ],
      "metadata": {
        "colab": {
          "base_uri": "https://localhost:8080/"
        },
        "id": "B3sauzk5yhon",
        "outputId": "e5b15953-ead6-4273-f893-ddb6e5569139"
      },
      "execution_count": 34,
      "outputs": [
        {
          "output_type": "execute_result",
          "data": {
            "text/plain": [
              "array([[0., 0., 0., 0.],\n",
              "       [0., 0., 0., 0.]])"
            ]
          },
          "metadata": {},
          "execution_count": 34
        }
      ]
    },
    {
      "cell_type": "code",
      "source": [
        "arr5 = np.ones((2,4)) #barcha elementlari 1 ga teng (2,4)\n",
        "arr5"
      ],
      "metadata": {
        "colab": {
          "base_uri": "https://localhost:8080/"
        },
        "id": "eNcuubnQy3lr",
        "outputId": "f771855c-4b50-436d-ca6e-71b349f3c8fb"
      },
      "execution_count": null,
      "outputs": [
        {
          "output_type": "execute_result",
          "data": {
            "text/plain": [
              "array([[1., 1., 1., 1.],\n",
              "       [1., 1., 1., 1.]])"
            ]
          },
          "metadata": {},
          "execution_count": 30
        }
      ]
    },
    {
      "cell_type": "markdown",
      "source": [
        "**arange** funksiyasi yordamida yaratish"
      ],
      "metadata": {
        "id": "asxlJORIzO5A"
      }
    },
    {
      "cell_type": "code",
      "source": [
        "arr6 = np.arange(4, 20 , 2) #4 dan 20 gacha bo'lgan qiymatlarni 2 qadam blan massivga joylab beradi\n",
        "arr6"
      ],
      "metadata": {
        "colab": {
          "base_uri": "https://localhost:8080/"
        },
        "id": "jAN9nwxqzY0r",
        "outputId": "2b5d8904-edf3-479e-98d7-e64b16cb6221"
      },
      "execution_count": 35,
      "outputs": [
        {
          "output_type": "execute_result",
          "data": {
            "text/plain": [
              "array([ 4,  6,  8, 10, 12, 14, 16, 18])"
            ]
          },
          "metadata": {},
          "execution_count": 35
        }
      ]
    },
    {
      "cell_type": "code",
      "source": [
        "arr7 = np.arange(20) # 0dan 20 gacha bo'gan qiymatlarni 1 qadam blan massivga joylab beradi\n",
        "arr7"
      ],
      "metadata": {
        "colab": {
          "base_uri": "https://localhost:8080/"
        },
        "id": "NRgN3pb2zxmF",
        "outputId": "e4bedacf-c1f3-4f77-bbbd-d0710931449e"
      },
      "execution_count": null,
      "outputs": [
        {
          "output_type": "execute_result",
          "data": {
            "text/plain": [
              "array([ 0,  1,  2,  3,  4,  5,  6,  7,  8,  9, 10, 11, 12, 13, 14, 15, 16,\n",
              "       17, 18, 19])"
            ]
          },
          "metadata": {},
          "execution_count": 32
        }
      ]
    }
  ]
}