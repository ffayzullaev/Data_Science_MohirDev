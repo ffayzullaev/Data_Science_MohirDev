{
  "nbformat": 4,
  "nbformat_minor": 0,
  "metadata": {
    "colab": {
      "name": "mohirdev2.2ipynb",
      "provenance": [],
      "collapsed_sections": [],
      "authorship_tag": "ABX9TyOeJk/sH/HvN7K8AbKAwY0t",
      "include_colab_link": true
    },
    "kernelspec": {
      "name": "python3",
      "display_name": "Python 3"
    },
    "language_info": {
      "name": "python"
    }
  },
  "cells": [
    {
      "cell_type": "markdown",
      "metadata": {
        "id": "view-in-github",
        "colab_type": "text"
      },
      "source": [
        "<a href=\"https://colab.research.google.com/github/ffayzullaev/Data_Science_MohirDev/blob/main/mohirdev2_2ipynb.ipynb\" target=\"_parent\"><img src=\"https://colab.research.google.com/assets/colab-badge.svg\" alt=\"Open In Colab\"/></a>"
      ]
    },
    {
      "cell_type": "markdown",
      "source": [
        "Ma'lumotlar tahlili"
      ],
      "metadata": {
        "id": "z54fm5bJGk7m"
      }
    },
    {
      "cell_type": "markdown",
      "source": [
        "Pandas kutubxonasi"
      ],
      "metadata": {
        "id": "cOht1nW9Gqca"
      }
    },
    {
      "cell_type": "markdown",
      "source": [
        "2.2 Pandas kutubxonasi bilan ishlash "
      ],
      "metadata": {
        "id": "hCFGRd3LGtBY"
      }
    },
    {
      "cell_type": "markdown",
      "source": [
        "**pandas** kutubxonasi ma'lumotlar muhandisining eng muhim ish quroli hisoblanadi. Data Science loyihalar ustida ishlar ekanmiz, 90% amallar aynan **pandas** yordamida amalga oshiriladi. **pandas** o'zining maxsus ma'lumotlar tuzilmalariga ega va bu tuzilmalar ma'lumotlarga ishlov berish, tozalash va boshqa amllarni bir necha barobar osonlashtiradi."
      ],
      "metadata": {
        "id": "FUS3zqsQOccc"
      }
    },
    {
      "cell_type": "markdown",
      "source": [
        "Avvalgi bo'limda ko'rilgan **numpy** kutubxonasidan farqli ravishda, **pandas** kutubxonasi faqatgina sonlardan iborat massivlar bilan emas, balki turli ko'rinishdagi ma'lumotlardan iborat jadvallar bilan ishlashga moslashgan"
      ],
      "metadata": {
        "id": "bVFOtaU3OiA0"
      }
    },
    {
      "cell_type": "markdown",
      "source": [
        "# Kutubxonani chaqiramiz"
      ],
      "metadata": {
        "id": "FApv_mseOsna"
      }
    },
    {
      "cell_type": "markdown",
      "source": [
        "Oson bo'lishi uchun **pandas** kutubxonasini **pd** deb chaqirib olish urf bo'lgan."
      ],
      "metadata": {
        "id": "3kIrx0ybOvdD"
      }
    },
    {
      "cell_type": "code",
      "source": [
        "import pandas as pd"
      ],
      "metadata": {
        "id": "x3C1ZGK-Gi85"
      },
      "execution_count": 1,
      "outputs": []
    },
    {
      "cell_type": "code",
      "execution_count": 2,
      "metadata": {
        "id": "zH9sYY1RGVVe"
      },
      "outputs": [],
      "source": [
        "import numpy as np"
      ]
    },
    {
      "cell_type": "markdown",
      "source": [
        "# **pandas** tarkibidagi ma'lumotlar tuzilmalari"
      ],
      "metadata": {
        "id": "iJ0Hv3RCO2uz"
      }
    },
    {
      "cell_type": "markdown",
      "source": [
        "**pandas** ikkita juda muhim va deyalri barcha loyihalar uchun mos tushuvchi Series va DataFrame ma'lumotlar tuzilamalariga ega. Keling ular bilan yaqindan tanishamiz."
      ],
      "metadata": {
        "id": "NPzPBkirO7m1"
      }
    },
    {
      "cell_type": "markdown",
      "source": [
        "Boshlanishiga bu ikki tuzilmalarni ham dasturimizga chaqirib olaylik."
      ],
      "metadata": {
        "id": "A-5kxzvIPAR_"
      }
    },
    {
      "cell_type": "code",
      "source": [
        "from pandas import Series #series ma'lumotlar tuzilmasi"
      ],
      "metadata": {
        "id": "h0KH5dttG6Bx"
      },
      "execution_count": 3,
      "outputs": []
    },
    {
      "cell_type": "markdown",
      "source": [
        "**Series** bir o'lchovli massivga o'xshash ma'lumotlar tuzilmasi bo'lib qiymatlar va ularga mos keluvchi indekslardan iborat bo'ladi."
      ],
      "metadata": {
        "id": "CWf5Cvb0PLte"
      }
    },
    {
      "cell_type": "markdown",
      "source": [
        "Eng sodda ko'rinishda **Series** ma'lumotlar massividan iborat bo'ladi."
      ],
      "metadata": {
        "id": "K-dSB9ZePPLF"
      }
    },
    {
      "cell_type": "code",
      "source": [
        "obj=Series([4,5,6,-6.5])"
      ],
      "metadata": {
        "id": "o_-Ku_w9HWnt"
      },
      "execution_count": 4,
      "outputs": []
    },
    {
      "cell_type": "code",
      "source": [
        "type(obj)"
      ],
      "metadata": {
        "colab": {
          "base_uri": "https://localhost:8080/"
        },
        "id": "zLHhlaxlHey0",
        "outputId": "9b0c517b-676f-4277-ce86-cdc3037bd896"
      },
      "execution_count": 5,
      "outputs": [
        {
          "output_type": "execute_result",
          "data": {
            "text/plain": [
              "pandas.core.series.Series"
            ]
          },
          "metadata": {},
          "execution_count": 5
        }
      ]
    },
    {
      "cell_type": "code",
      "source": [
        "print(obj)"
      ],
      "metadata": {
        "colab": {
          "base_uri": "https://localhost:8080/"
        },
        "id": "1fEDtkQDHh2J",
        "outputId": "a1ee898f-e6c4-4016-8bb1-3ff41641e175"
      },
      "execution_count": 6,
      "outputs": [
        {
          "output_type": "stream",
          "name": "stdout",
          "text": [
            "0    4.0\n",
            "1    5.0\n",
            "2    6.0\n",
            "3   -6.5\n",
            "dtype: float64\n"
          ]
        }
      ]
    },
    {
      "cell_type": "markdown",
      "source": [
        "Konsolga chop etganda ,**Series** yuqoridagi kabi indekslar (chap ustun) va qiymatlar (o'ng ustun) ko'rinishida chiqadi. **Series** obyektini yaratsihda indekslarni bermaganimiz sababli indekslar **0** dan **N-1** gacha qiymatlarni oladi (**N** ma'lumotlar uzunligi)."
      ],
      "metadata": {
        "id": "6z-SBAt-PVSu"
      }
    },
    {
      "cell_type": "markdown",
      "source": [
        "**Series** obyekti index va qiymatlarini alohida ajratib ko'rishimiz ham mumkin."
      ],
      "metadata": {
        "id": "NjEuFtbMPdHo"
      }
    },
    {
      "cell_type": "code",
      "source": [
        "obj.values "
      ],
      "metadata": {
        "colab": {
          "base_uri": "https://localhost:8080/"
        },
        "id": "VvIldERgHlsI",
        "outputId": "0800ade3-52b0-4cb2-f3d0-924fbb814e82"
      },
      "execution_count": 7,
      "outputs": [
        {
          "output_type": "execute_result",
          "data": {
            "text/plain": [
              "array([ 4. ,  5. ,  6. , -6.5])"
            ]
          },
          "metadata": {},
          "execution_count": 7
        }
      ]
    },
    {
      "cell_type": "code",
      "source": [
        "obj.index"
      ],
      "metadata": {
        "colab": {
          "base_uri": "https://localhost:8080/"
        },
        "id": "uCwXnUqyHuRg",
        "outputId": "70679cb7-7930-486d-e744-06d908f07618"
      },
      "execution_count": 8,
      "outputs": [
        {
          "output_type": "execute_result",
          "data": {
            "text/plain": [
              "RangeIndex(start=0, stop=4, step=1)"
            ]
          },
          "metadata": {},
          "execution_count": 8
        }
      ]
    },
    {
      "cell_type": "markdown",
      "source": [
        "Qiymatlarga **indeks** orqali murojaat qilish mumkin."
      ],
      "metadata": {
        "id": "hlzngPvDPh4t"
      }
    },
    {
      "cell_type": "code",
      "source": [
        "obj[0]"
      ],
      "metadata": {
        "colab": {
          "base_uri": "https://localhost:8080/"
        },
        "id": "pov253KKHxAP",
        "outputId": "6aedd197-7496-4061-8d47-53dfc467e7b9"
      },
      "execution_count": 9,
      "outputs": [
        {
          "output_type": "execute_result",
          "data": {
            "text/plain": [
              "4.0"
            ]
          },
          "metadata": {},
          "execution_count": 9
        }
      ]
    },
    {
      "cell_type": "markdown",
      "source": [
        "**Series** obyektini yaratishda indekslarga o'zimiz ham nom berishimiz mumkin"
      ],
      "metadata": {
        "id": "NSQwXtp3Prli"
      }
    },
    {
      "cell_type": "code",
      "source": [
        "obj2=Series([6,3,2,1],index=['a','b','c','d'])"
      ],
      "metadata": {
        "id": "lKkLBal8H2gN"
      },
      "execution_count": 11,
      "outputs": []
    },
    {
      "cell_type": "code",
      "source": [
        "obj2"
      ],
      "metadata": {
        "colab": {
          "base_uri": "https://localhost:8080/"
        },
        "id": "1TqgQbKHIN8S",
        "outputId": "96cd9f00-0b6c-4a30-f21e-18c4e8ece3d3"
      },
      "execution_count": 12,
      "outputs": [
        {
          "output_type": "execute_result",
          "data": {
            "text/plain": [
              "a    6\n",
              "b    3\n",
              "c    2\n",
              "d    1\n",
              "dtype: int64"
            ]
          },
          "metadata": {},
          "execution_count": 12
        }
      ]
    },
    {
      "cell_type": "code",
      "source": [
        "obj2['a']"
      ],
      "metadata": {
        "colab": {
          "base_uri": "https://localhost:8080/"
        },
        "id": "DfTcN_nFITq1",
        "outputId": "d247a59b-d407-48eb-ada0-a0992962abf7"
      },
      "execution_count": 13,
      "outputs": [
        {
          "output_type": "execute_result",
          "data": {
            "text/plain": [
              "6"
            ]
          },
          "metadata": {},
          "execution_count": 13
        }
      ]
    },
    {
      "cell_type": "code",
      "source": [
        "obj2[['a','b','c']]"
      ],
      "metadata": {
        "colab": {
          "base_uri": "https://localhost:8080/"
        },
        "id": "B6IfDzPBIbAI",
        "outputId": "c637d690-7447-48e1-ad67-ee5cdb9b3a4e"
      },
      "execution_count": 14,
      "outputs": [
        {
          "output_type": "execute_result",
          "data": {
            "text/plain": [
              "a    6\n",
              "b    3\n",
              "c    2\n",
              "dtype: int64"
            ]
          },
          "metadata": {},
          "execution_count": 14
        }
      ]
    },
    {
      "cell_type": "code",
      "source": [
        "obj2['a']"
      ],
      "metadata": {
        "colab": {
          "base_uri": "https://localhost:8080/"
        },
        "id": "F82NjOMqIfmi",
        "outputId": "637c1428-5d21-4276-caa4-ca739269b6ff"
      },
      "execution_count": 15,
      "outputs": [
        {
          "output_type": "execute_result",
          "data": {
            "text/plain": [
              "6"
            ]
          },
          "metadata": {},
          "execution_count": 15
        }
      ]
    },
    {
      "cell_type": "code",
      "source": [
        "obj2[obj2<3]"
      ],
      "metadata": {
        "colab": {
          "base_uri": "https://localhost:8080/"
        },
        "id": "wyTqOuxRItTA",
        "outputId": "548dfbee-282e-4309-d136-c95e32fe739c"
      },
      "execution_count": 16,
      "outputs": [
        {
          "output_type": "execute_result",
          "data": {
            "text/plain": [
              "c    2\n",
              "d    1\n",
              "dtype: int64"
            ]
          },
          "metadata": {},
          "execution_count": 16
        }
      ]
    },
    {
      "cell_type": "code",
      "source": [
        "obj2*2"
      ],
      "metadata": {
        "colab": {
          "base_uri": "https://localhost:8080/"
        },
        "id": "JkFyxyGyIzHm",
        "outputId": "b28f76c7-1700-40e4-cdfe-81353fb36e82"
      },
      "execution_count": 17,
      "outputs": [
        {
          "output_type": "execute_result",
          "data": {
            "text/plain": [
              "a    12\n",
              "b     6\n",
              "c     4\n",
              "d     2\n",
              "dtype: int64"
            ]
          },
          "metadata": {},
          "execution_count": 17
        }
      ]
    },
    {
      "cell_type": "code",
      "source": [
        "obj2"
      ],
      "metadata": {
        "colab": {
          "base_uri": "https://localhost:8080/"
        },
        "id": "H3NGqG9WI89d",
        "outputId": "bc2c38f4-b887-43de-886f-21f6b9c92a6b"
      },
      "execution_count": 18,
      "outputs": [
        {
          "output_type": "execute_result",
          "data": {
            "text/plain": [
              "a    6\n",
              "b    3\n",
              "c    2\n",
              "d    1\n",
              "dtype: int64"
            ]
          },
          "metadata": {},
          "execution_count": 18
        }
      ]
    },
    {
      "cell_type": "code",
      "source": [
        "np.exp(obj2)"
      ],
      "metadata": {
        "colab": {
          "base_uri": "https://localhost:8080/"
        },
        "id": "3GNbguVCI-f9",
        "outputId": "80bb556d-b5b1-40ec-9c26-8d24b971eb29"
      },
      "execution_count": 19,
      "outputs": [
        {
          "output_type": "execute_result",
          "data": {
            "text/plain": [
              "a    403.428793\n",
              "b     20.085537\n",
              "c      7.389056\n",
              "d      2.718282\n",
              "dtype: float64"
            ]
          },
          "metadata": {},
          "execution_count": 19
        }
      ]
    },
    {
      "cell_type": "code",
      "source": [
        "obj2['a']"
      ],
      "metadata": {
        "id": "5x3Lqgm3KUIJ",
        "colab": {
          "base_uri": "https://localhost:8080/"
        },
        "outputId": "a74fd203-ffa7-4625-f1ae-0b4e7f9b6699"
      },
      "execution_count": 20,
      "outputs": [
        {
          "output_type": "execute_result",
          "data": {
            "text/plain": [
              "6"
            ]
          },
          "metadata": {},
          "execution_count": 20
        }
      ]
    },
    {
      "cell_type": "code",
      "source": [
        "obj2"
      ],
      "metadata": {
        "colab": {
          "base_uri": "https://localhost:8080/"
        },
        "id": "vCm55OtGLCJu",
        "outputId": "60f4edc0-175e-4800-ac9f-41ab56f60a64"
      },
      "execution_count": 21,
      "outputs": [
        {
          "output_type": "execute_result",
          "data": {
            "text/plain": [
              "a    6\n",
              "b    3\n",
              "c    2\n",
              "d    1\n",
              "dtype: int64"
            ]
          },
          "metadata": {},
          "execution_count": 21
        }
      ]
    },
    {
      "cell_type": "code",
      "source": [
        "cars_dict={'Malibu':40000, 'Lacetti':20000, 'Toyota':45000, 'Mazda':52000, 'Honda':38000}"
      ],
      "metadata": {
        "id": "0fZue2I7LC3M"
      },
      "execution_count": 22,
      "outputs": []
    },
    {
      "cell_type": "code",
      "source": [
        "type(cars_dict)"
      ],
      "metadata": {
        "colab": {
          "base_uri": "https://localhost:8080/"
        },
        "id": "ylVS7lfQLVCV",
        "outputId": "cd51fd58-d38d-4d65-a316-4496b3e528b2"
      },
      "execution_count": 23,
      "outputs": [
        {
          "output_type": "execute_result",
          "data": {
            "text/plain": [
              "dict"
            ]
          },
          "metadata": {},
          "execution_count": 23
        }
      ]
    },
    {
      "cell_type": "code",
      "source": [
        "cars1=Series(cars_dict)"
      ],
      "metadata": {
        "id": "hAruplmELY5Y"
      },
      "execution_count": 24,
      "outputs": []
    },
    {
      "cell_type": "code",
      "source": [
        "cars1"
      ],
      "metadata": {
        "colab": {
          "base_uri": "https://localhost:8080/"
        },
        "id": "LCio8LQYLiH0",
        "outputId": "8f9eec35-3685-4f83-ca58-a70a2683a7ec"
      },
      "execution_count": 25,
      "outputs": [
        {
          "output_type": "execute_result",
          "data": {
            "text/plain": [
              "Malibu     40000\n",
              "Lacetti    20000\n",
              "Toyota     45000\n",
              "Mazda      52000\n",
              "Honda      38000\n",
              "dtype: int64"
            ]
          },
          "metadata": {},
          "execution_count": 25
        }
      ]
    },
    {
      "cell_type": "code",
      "source": [
        "type(cars1)"
      ],
      "metadata": {
        "colab": {
          "base_uri": "https://localhost:8080/"
        },
        "id": "TOhdH1QJLjdI",
        "outputId": "c70f31c4-fce0-401f-cc74-4058c53749c1"
      },
      "execution_count": 26,
      "outputs": [
        {
          "output_type": "execute_result",
          "data": {
            "text/plain": [
              "pandas.core.series.Series"
            ]
          },
          "metadata": {},
          "execution_count": 26
        }
      ]
    },
    {
      "cell_type": "code",
      "source": [
        "cars1=Series({'Malibu':40000, 'Lacetti':20000, 'Toyota':45000, 'Mazda':52000, 'Honda':38000})"
      ],
      "metadata": {
        "id": "qeW2c_jLLl_7"
      },
      "execution_count": 27,
      "outputs": []
    },
    {
      "cell_type": "code",
      "source": [
        "cars1"
      ],
      "metadata": {
        "colab": {
          "base_uri": "https://localhost:8080/"
        },
        "id": "8XDhUtPuL2Zb",
        "outputId": "c7747609-259e-416e-97ff-17854f0c1fa7"
      },
      "execution_count": 28,
      "outputs": [
        {
          "output_type": "execute_result",
          "data": {
            "text/plain": [
              "Malibu     40000\n",
              "Lacetti    20000\n",
              "Toyota     45000\n",
              "Mazda      52000\n",
              "Honda      38000\n",
              "dtype: int64"
            ]
          },
          "metadata": {},
          "execution_count": 28
        }
      ]
    },
    {
      "cell_type": "code",
      "source": [
        "'Malibu'in cars1"
      ],
      "metadata": {
        "colab": {
          "base_uri": "https://localhost:8080/"
        },
        "id": "t9iI-JstL3CM",
        "outputId": "761cf7a6-e47f-4625-a087-e6c5af6e2d34"
      },
      "execution_count": 29,
      "outputs": [
        {
          "output_type": "execute_result",
          "data": {
            "text/plain": [
              "True"
            ]
          },
          "metadata": {},
          "execution_count": 29
        }
      ]
    },
    {
      "cell_type": "code",
      "source": [
        "'BMW' in cars1"
      ],
      "metadata": {
        "colab": {
          "base_uri": "https://localhost:8080/"
        },
        "id": "Mt3-dV0fL78S",
        "outputId": "4ec22336-49ae-44b7-9e39-f245b556886f"
      },
      "execution_count": 30,
      "outputs": [
        {
          "output_type": "execute_result",
          "data": {
            "text/plain": [
              "False"
            ]
          },
          "metadata": {},
          "execution_count": 30
        }
      ]
    },
    {
      "cell_type": "code",
      "source": [
        "cars1['Toyota']"
      ],
      "metadata": {
        "colab": {
          "base_uri": "https://localhost:8080/"
        },
        "id": "BZVm3iFGMAM0",
        "outputId": "ef12e68b-17d7-48a8-e3d5-179877c14edd"
      },
      "execution_count": 32,
      "outputs": [
        {
          "output_type": "execute_result",
          "data": {
            "text/plain": [
              "45000"
            ]
          },
          "metadata": {},
          "execution_count": 32
        }
      ]
    },
    {
      "cell_type": "code",
      "source": [
        "cars_dict"
      ],
      "metadata": {
        "colab": {
          "base_uri": "https://localhost:8080/"
        },
        "id": "grS27Q41Mm81",
        "outputId": "f069790c-9391-41ee-bf72-3da590ce1c68"
      },
      "execution_count": 40,
      "outputs": [
        {
          "output_type": "execute_result",
          "data": {
            "text/plain": [
              "{'Honda': 38000,\n",
              " 'Lacetti': 20000,\n",
              " 'Malibu': 40000,\n",
              " 'Mazda': 52000,\n",
              " 'Toyota': 45000}"
            ]
          },
          "metadata": {},
          "execution_count": 40
        }
      ]
    },
    {
      "cell_type": "code",
      "source": [
        "models=['Honda', 'Mazda', 'Lacetti', 'Jaguar', 'Malibu', 'Toyota', 'BMW']"
      ],
      "metadata": {
        "id": "E-azV8NpMHpK"
      },
      "execution_count": 44,
      "outputs": []
    },
    {
      "cell_type": "code",
      "source": [
        "cars2=Series(cars_dict, index=models)"
      ],
      "metadata": {
        "id": "0rJ8LTdNMcJr"
      },
      "execution_count": 45,
      "outputs": []
    },
    {
      "cell_type": "code",
      "source": [
        "cars2"
      ],
      "metadata": {
        "colab": {
          "base_uri": "https://localhost:8080/"
        },
        "id": "KD6m9n2QMpNY",
        "outputId": "be0f7b63-d09b-4688-f753-6fa8bb42bca3"
      },
      "execution_count": 46,
      "outputs": [
        {
          "output_type": "execute_result",
          "data": {
            "text/plain": [
              "Honda      38000.0\n",
              "Mazda      52000.0\n",
              "Lacetti    20000.0\n",
              "Jaguar         NaN\n",
              "Malibu     40000.0\n",
              "Toyota     45000.0\n",
              "BMW            NaN\n",
              "dtype: float64"
            ]
          },
          "metadata": {},
          "execution_count": 46
        }
      ]
    }
  ]
}