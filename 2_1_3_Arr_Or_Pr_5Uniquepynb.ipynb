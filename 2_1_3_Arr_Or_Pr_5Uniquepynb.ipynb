{
  "nbformat": 4,
  "nbformat_minor": 0,
  "metadata": {
    "colab": {
      "name": "2.1.3.Arr_Or_Pr#5Uniquepynb",
      "provenance": [],
      "collapsed_sections": [],
      "authorship_tag": "ABX9TyPYRD2qNNLMeOio8FXh0DVR",
      "include_colab_link": true
    },
    "kernelspec": {
      "name": "python3",
      "display_name": "Python 3"
    },
    "language_info": {
      "name": "python"
    }
  },
  "cells": [
    {
      "cell_type": "markdown",
      "metadata": {
        "id": "view-in-github",
        "colab_type": "text"
      },
      "source": [
        "<a href=\"https://colab.research.google.com/github/ffayzullaev/Data_Science_MohirDev/blob/main/2_1_3_Arr_Or_Pr_5Uniquepynb.ipynb\" target=\"_parent\"><img src=\"https://colab.research.google.com/assets/colab-badge.svg\" alt=\"Open In Colab\"/></a>"
      ]
    },
    {
      "cell_type": "markdown",
      "source": [
        "Ma'lumotlar tahlili."
      ],
      "metadata": {
        "id": "btd1_jXAMvxu"
      }
    },
    {
      "cell_type": "markdown",
      "source": [
        "2.1. NumPy kutubxonasi bilan ishlash"
      ],
      "metadata": {
        "id": "gb9PRvOWMwda"
      }
    },
    {
      "cell_type": "markdown",
      "source": [
        "NumPy kutubxonasini chaqirib olish"
      ],
      "metadata": {
        "id": "bWDsoQxdMw67"
      }
    },
    {
      "cell_type": "code",
      "execution_count": 1,
      "metadata": {
        "id": "sjRM7yI7Kqfd"
      },
      "outputs": [],
      "source": [
        "import numpy as np"
      ]
    },
    {
      "cell_type": "markdown",
      "source": [
        "2.1.3. Massivga yo'naltirilgan dasturlash"
      ],
      "metadata": {
        "id": "A8Lyv3DUM41v"
      }
    },
    {
      "cell_type": "markdown",
      "source": [
        "**unique** va **in1d**   **setdiff1d** va boshqa usullari haqida"
      ],
      "metadata": {
        "id": "3Yr_XQxAM8_h"
      }
    },
    {
      "cell_type": "code",
      "source": [
        "#data\n",
        "names=np.array(['Sarvar', 'Abdurahmon', 'Hasan', 'Temur', 'Sarvar', 'Temur'])\n",
        "ints=np.array([3,3,3,2,2,1,1,4,4])"
      ],
      "metadata": {
        "id": "8JQoNjikNBKM"
      },
      "execution_count": 3,
      "outputs": []
    },
    {
      "cell_type": "code",
      "source": [
        "#unique\n",
        "np.unique(names) # names dagi takrorlanmas elementlarni qaytaradi(takrorlansa ham faqat bittasini qabul qiladi)\n"
      ],
      "metadata": {
        "colab": {
          "base_uri": "https://localhost:8080/"
        },
        "id": "aaBac5KoNhkZ",
        "outputId": "c6061c9d-4a28-4db1-9652-9feda129e34a"
      },
      "execution_count": 4,
      "outputs": [
        {
          "output_type": "execute_result",
          "data": {
            "text/plain": [
              "array(['Abdurahmon', 'Hasan', 'Sarvar', 'Temur'], dtype='<U10')"
            ]
          },
          "metadata": {},
          "execution_count": 4
        }
      ]
    },
    {
      "cell_type": "code",
      "source": [
        "set(names) # names dagi unique (takrorlanmas) elementlarni qaytaradi"
      ],
      "metadata": {
        "colab": {
          "base_uri": "https://localhost:8080/"
        },
        "id": "BvhkyaYDN0gS",
        "outputId": "404734eb-a6c3-4f3a-b19d-69621901d123"
      },
      "execution_count": 6,
      "outputs": [
        {
          "output_type": "execute_result",
          "data": {
            "text/plain": [
              "{'Abdurahmon', 'Hasan', 'Sarvar', 'Temur'}"
            ]
          },
          "metadata": {},
          "execution_count": 6
        }
      ]
    },
    {
      "cell_type": "markdown",
      "source": [
        "**in1d** usuli haqida"
      ],
      "metadata": {
        "id": "zTVtVVQZOq7t"
      }
    },
    {
      "cell_type": "code",
      "source": [
        "#data\n",
        "arr1=np.array([6,0,0,3,2,5,6])\n",
        "arr2=np.array([0,2,3])\n"
      ],
      "metadata": {
        "id": "trsXi429Ou5v"
      },
      "execution_count": 8,
      "outputs": []
    },
    {
      "cell_type": "code",
      "source": [
        "np.in1d(arr1, arr2) # arr2 dagi elementlarni arr1 da mavjudligini tekshirish"
      ],
      "metadata": {
        "colab": {
          "base_uri": "https://localhost:8080/"
        },
        "id": "imb7F6AnO8Y0",
        "outputId": "2842a6ab-8b18-42b6-c8f0-c5215b03125e"
      },
      "execution_count": 12,
      "outputs": [
        {
          "output_type": "execute_result",
          "data": {
            "text/plain": [
              "array([False,  True,  True,  True,  True, False, False])"
            ]
          },
          "metadata": {},
          "execution_count": 12
        }
      ]
    },
    {
      "cell_type": "markdown",
      "source": [
        "**setdiff1d** usuli haqida"
      ],
      "metadata": {
        "id": "Fj6lLIlePVQu"
      }
    },
    {
      "cell_type": "code",
      "source": [
        "#data\n",
        "names1=np.array(['Jasur', 'Abdurahmon', 'Hasan', 'Muhammad', 'Sarvar', 'Temur'])\n",
        "names2=np.array(['Sarvar', 'Abdurahmon', 'Hasan', 'Temur', 'Sarvar', 'Temur'])"
      ],
      "metadata": {
        "id": "bBpJJFyIPHND"
      },
      "execution_count": 13,
      "outputs": []
    },
    {
      "cell_type": "code",
      "source": [
        "np.setdiff1d(names1, names2) # names1 massivining names2 massividagi takrorlanmas qismini qaytaradi"
      ],
      "metadata": {
        "colab": {
          "base_uri": "https://localhost:8080/"
        },
        "id": "LafrzJ2mP2iO",
        "outputId": "91373dc0-ed82-430b-d674-d531affae88d"
      },
      "execution_count": 14,
      "outputs": [
        {
          "output_type": "execute_result",
          "data": {
            "text/plain": [
              "array(['Jasur', 'Muhammad'], dtype='<U10')"
            ]
          },
          "metadata": {},
          "execution_count": 14
        }
      ]
    }
  ]
}