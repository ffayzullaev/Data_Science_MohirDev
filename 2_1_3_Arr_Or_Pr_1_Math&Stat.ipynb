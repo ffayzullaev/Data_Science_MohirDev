{
  "nbformat": 4,
  "nbformat_minor": 0,
  "metadata": {
    "colab": {
      "name": "2.1.3.Arr_Or_Pr#1_Math&Stat.ipynb",
      "provenance": [],
      "collapsed_sections": [],
      "authorship_tag": "ABX9TyNMmtpJtIL7rWhssi5MIAqM",
      "include_colab_link": true
    },
    "kernelspec": {
      "name": "python3",
      "display_name": "Python 3"
    },
    "language_info": {
      "name": "python"
    }
  },
  "cells": [
    {
      "cell_type": "markdown",
      "metadata": {
        "id": "view-in-github",
        "colab_type": "text"
      },
      "source": [
        "<a href=\"https://colab.research.google.com/github/ffayzullaev/Data_Science_MohirDev/blob/main/2_1_3_Arr_Or_Pr_1_Math%26Stat.ipynb\" target=\"_parent\"><img src=\"https://colab.research.google.com/assets/colab-badge.svg\" alt=\"Open In Colab\"/></a>"
      ]
    },
    {
      "cell_type": "markdown",
      "source": [
        "Ma'lumotlar tahlili."
      ],
      "metadata": {
        "id": "D-PL7USyZn_0"
      }
    },
    {
      "cell_type": "markdown",
      "source": [
        "2.1. NumPy kutubxonasi bilan ishlash"
      ],
      "metadata": {
        "id": "itYc7QDuZr5D"
      }
    },
    {
      "cell_type": "markdown",
      "source": [
        "NumPy kutubxonasini chaqirib olish"
      ],
      "metadata": {
        "id": "WjJJ-CFgZurs"
      }
    },
    {
      "cell_type": "code",
      "execution_count": 1,
      "metadata": {
        "id": "iIWfgGM4Zmvd"
      },
      "outputs": [],
      "source": [
        "import numpy as np"
      ]
    },
    {
      "cell_type": "markdown",
      "source": [
        "2.1.3. Massivga yo'naltirilgan dasturlash"
      ],
      "metadata": {
        "id": "X3yXPaOHZ08x"
      }
    },
    {
      "cell_type": "markdown",
      "source": [
        "Matematik va Statistik usullarni qo'llash\n"
      ],
      "metadata": {
        "id": "FUTt1pboZ3bV"
      }
    },
    {
      "cell_type": "code",
      "source": [
        "#data\n",
        "arr=np.random.randn(5,4) #(5,4) o'lchovli massiv (random)\n",
        "arr"
      ],
      "metadata": {
        "colab": {
          "base_uri": "https://localhost:8080/"
        },
        "id": "OZFdbbV3ZzJd",
        "outputId": "961f7989-61c9-4d87-d745-8fa47d1a99d1"
      },
      "execution_count": 2,
      "outputs": [
        {
          "output_type": "execute_result",
          "data": {
            "text/plain": [
              "array([[ 2.6272861 , -1.59388078,  0.5219648 , -0.62680056],\n",
              "       [-0.51091138,  0.09854444,  0.17631379,  0.40871643],\n",
              "       [-0.55842713,  1.35685195, -0.49947271, -2.38852235],\n",
              "       [-1.0439046 , -0.07051924, -0.28135969, -0.06659494],\n",
              "       [ 2.85948747, -0.82307704,  0.09457043, -0.45246997]])"
            ]
          },
          "metadata": {},
          "execution_count": 2
        }
      ]
    },
    {
      "cell_type": "markdown",
      "source": [
        "**sum** metodi"
      ],
      "metadata": {
        "id": "iH09uSryaS4U"
      }
    },
    {
      "cell_type": "code",
      "source": [
        "arr.sum() # arr ning barcha elementlarini yig'indisini hisoblab beradi"
      ],
      "metadata": {
        "colab": {
          "base_uri": "https://localhost:8080/"
        },
        "id": "mm-EVfG8aSBc",
        "outputId": "c6063453-c725-4680-ebdb-2411c670cd7c"
      },
      "execution_count": 3,
      "outputs": [
        {
          "output_type": "execute_result",
          "data": {
            "text/plain": [
              "-0.7722049999410754"
            ]
          },
          "metadata": {},
          "execution_count": 3
        }
      ]
    },
    {
      "cell_type": "code",
      "source": [
        "arr.sum() # arr ning barcha elementlarini yig'indisini hisoblab beradi"
      ],
      "metadata": {
        "colab": {
          "base_uri": "https://localhost:8080/"
        },
        "id": "jYOnhEapadH0",
        "outputId": "b8419edf-cba6-43d5-f512-d12ac95ab98f"
      },
      "execution_count": 4,
      "outputs": [
        {
          "output_type": "execute_result",
          "data": {
            "text/plain": [
              "-0.7722049999410754"
            ]
          },
          "metadata": {},
          "execution_count": 4
        }
      ]
    },
    {
      "cell_type": "code",
      "source": [
        "arr.sum(axis=1) # qatorlar yig'indisi"
      ],
      "metadata": {
        "colab": {
          "base_uri": "https://localhost:8080/"
        },
        "id": "EI1l4bqJagxb",
        "outputId": "d28372f9-65ac-427e-8438-cc2b99475790"
      },
      "execution_count": 8,
      "outputs": [
        {
          "output_type": "execute_result",
          "data": {
            "text/plain": [
              "array([ 0.92856956,  0.17266327, -2.08957024, -1.46237847,  1.67851089])"
            ]
          },
          "metadata": {},
          "execution_count": 8
        }
      ]
    },
    {
      "cell_type": "code",
      "source": [
        "arr.sum(axis=0) # ustunlar yig'indisi"
      ],
      "metadata": {
        "colab": {
          "base_uri": "https://localhost:8080/"
        },
        "id": "tgapmH4Ya50i",
        "outputId": "7ab94eab-d778-4be2-9b11-f2a063525b8b"
      },
      "execution_count": 9,
      "outputs": [
        {
          "output_type": "execute_result",
          "data": {
            "text/plain": [
              "array([ 3.37353046, -1.03208068,  0.01201661, -3.12567138])"
            ]
          },
          "metadata": {},
          "execution_count": 9
        }
      ]
    },
    {
      "cell_type": "markdown",
      "source": [
        "**mean** metodi"
      ],
      "metadata": {
        "id": "-OF9zHx0bNZm"
      }
    },
    {
      "cell_type": "code",
      "source": [
        "#sodda ma'lumot\n",
        "data=np.arange(5) # 0-5gacha bo'lgan elementlarda tashkil topgan massiv\n",
        "data"
      ],
      "metadata": {
        "colab": {
          "base_uri": "https://localhost:8080/"
        },
        "id": "BRStN3BDa_Me",
        "outputId": "62ef4bce-f36a-41b4-ef00-53d1ea75781f"
      },
      "execution_count": 10,
      "outputs": [
        {
          "output_type": "execute_result",
          "data": {
            "text/plain": [
              "array([0, 1, 2, 3, 4])"
            ]
          },
          "metadata": {},
          "execution_count": 10
        }
      ]
    },
    {
      "cell_type": "code",
      "source": [
        "mean=np.sum(data)/len(data)\n",
        "mean"
      ],
      "metadata": {
        "colab": {
          "base_uri": "https://localhost:8080/"
        },
        "id": "OO9Mp8qPbeyP",
        "outputId": "b466bab4-73bd-4def-b61f-be24df80ed92"
      },
      "execution_count": 11,
      "outputs": [
        {
          "output_type": "execute_result",
          "data": {
            "text/plain": [
              "2.0"
            ]
          },
          "metadata": {},
          "execution_count": 11
        }
      ]
    },
    {
      "cell_type": "code",
      "source": [
        "#numpy mean\n",
        "np.mean(data)"
      ],
      "metadata": {
        "colab": {
          "base_uri": "https://localhost:8080/"
        },
        "id": "ee8gv3bSbqiF",
        "outputId": "c4acd463-4587-4a84-8d07-2fe6ea2e763f"
      },
      "execution_count": 12,
      "outputs": [
        {
          "output_type": "execute_result",
          "data": {
            "text/plain": [
              "2.0"
            ]
          },
          "metadata": {},
          "execution_count": 12
        }
      ]
    },
    {
      "cell_type": "code",
      "source": [
        "data.mean()\n"
      ],
      "metadata": {
        "colab": {
          "base_uri": "https://localhost:8080/"
        },
        "id": "ejlMYNbHbvoz",
        "outputId": "b1fc65e7-a520-4c4f-fc38-7e63bfba2e76"
      },
      "execution_count": 13,
      "outputs": [
        {
          "output_type": "execute_result",
          "data": {
            "text/plain": [
              "2.0"
            ]
          },
          "metadata": {},
          "execution_count": 13
        }
      ]
    },
    {
      "cell_type": "code",
      "source": [
        "arr"
      ],
      "metadata": {
        "colab": {
          "base_uri": "https://localhost:8080/"
        },
        "id": "UotVKnQobzij",
        "outputId": "0ef9c1a1-7b18-4f5a-dbd8-043b872dfe1f"
      },
      "execution_count": 14,
      "outputs": [
        {
          "output_type": "execute_result",
          "data": {
            "text/plain": [
              "array([[ 2.6272861 , -1.59388078,  0.5219648 , -0.62680056],\n",
              "       [-0.51091138,  0.09854444,  0.17631379,  0.40871643],\n",
              "       [-0.55842713,  1.35685195, -0.49947271, -2.38852235],\n",
              "       [-1.0439046 , -0.07051924, -0.28135969, -0.06659494],\n",
              "       [ 2.85948747, -0.82307704,  0.09457043, -0.45246997]])"
            ]
          },
          "metadata": {},
          "execution_count": 14
        }
      ]
    },
    {
      "cell_type": "code",
      "source": [
        "np.mean(arr) # arr ning o'rtacha qiymati "
      ],
      "metadata": {
        "colab": {
          "base_uri": "https://localhost:8080/"
        },
        "id": "VNxAoijvb0n1",
        "outputId": "5ccc34c1-38ce-4d02-e8d4-bb013274f71e"
      },
      "execution_count": 16,
      "outputs": [
        {
          "output_type": "execute_result",
          "data": {
            "text/plain": [
              "-0.03861024999705377"
            ]
          },
          "metadata": {},
          "execution_count": 16
        }
      ]
    },
    {
      "cell_type": "code",
      "source": [
        "np.mean(arr, axis=1) # qator bo'yicha o'rtacha qiymatni qaytaradi"
      ],
      "metadata": {
        "colab": {
          "base_uri": "https://localhost:8080/"
        },
        "id": "EmpT0McMb4jQ",
        "outputId": "6459f82b-79f3-47cb-bbdd-87f16fec077b"
      },
      "execution_count": 17,
      "outputs": [
        {
          "output_type": "execute_result",
          "data": {
            "text/plain": [
              "array([ 0.23214239,  0.04316582, -0.52239256, -0.36559462,  0.41962772])"
            ]
          },
          "metadata": {},
          "execution_count": 17
        }
      ]
    },
    {
      "cell_type": "code",
      "source": [
        "np.mean(arr, axis=0) # ustun bo'yicha o'rtacha qiymatni qaytaradi"
      ],
      "metadata": {
        "colab": {
          "base_uri": "https://localhost:8080/"
        },
        "id": "L2qHlAYDcL9v",
        "outputId": "b838d1a4-788d-4536-a611-a52dca301caa"
      },
      "execution_count": 18,
      "outputs": [
        {
          "output_type": "execute_result",
          "data": {
            "text/plain": [
              "array([ 0.67470609, -0.20641614,  0.00240332, -0.62513428])"
            ]
          },
          "metadata": {},
          "execution_count": 18
        }
      ]
    },
    {
      "cell_type": "markdown",
      "source": [
        "**cumsum** metodi"
      ],
      "metadata": {
        "id": "fKoowbl-cg2F"
      }
    },
    {
      "cell_type": "code",
      "source": [
        "data "
      ],
      "metadata": {
        "colab": {
          "base_uri": "https://localhost:8080/"
        },
        "id": "SXaSrIUKcSlZ",
        "outputId": "631de3f3-a268-4cc4-99a8-3cb4db9b92df"
      },
      "execution_count": 19,
      "outputs": [
        {
          "output_type": "execute_result",
          "data": {
            "text/plain": [
              "array([0, 1, 2, 3, 4])"
            ]
          },
          "metadata": {},
          "execution_count": 19
        }
      ]
    },
    {
      "cell_type": "code",
      "source": [
        "data.cumsum()\n"
      ],
      "metadata": {
        "colab": {
          "base_uri": "https://localhost:8080/"
        },
        "id": "Av176XVicoFd",
        "outputId": "7b27a877-9d4f-4e79-e1e3-c1b04ac7c24c"
      },
      "execution_count": 20,
      "outputs": [
        {
          "output_type": "execute_result",
          "data": {
            "text/plain": [
              "array([ 0,  1,  3,  6, 10])"
            ]
          },
          "metadata": {},
          "execution_count": 20
        }
      ]
    }
  ]
}